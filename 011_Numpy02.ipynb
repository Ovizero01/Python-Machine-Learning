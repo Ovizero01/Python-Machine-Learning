{
  "nbformat": 4,
  "nbformat_minor": 0,
  "metadata": {
    "colab": {
      "provenance": [],
      "authorship_tag": "ABX9TyPJLWZDTH+ic/Oob1krmj+V",
      "include_colab_link": true
    },
    "kernelspec": {
      "name": "python3",
      "display_name": "Python 3"
    },
    "language_info": {
      "name": "python"
    }
  },
  "cells": [
    {
      "cell_type": "markdown",
      "metadata": {
        "id": "view-in-github",
        "colab_type": "text"
      },
      "source": [
        "<a href=\"https://colab.research.google.com/github/Ovizero01/Python-Machine-Learning/blob/main/011_Numpy02.ipynb\" target=\"_parent\"><img src=\"https://colab.research.google.com/assets/colab-badge.svg\" alt=\"Open In Colab\"/></a>"
      ]
    },
    {
      "cell_type": "code",
      "execution_count": 17,
      "metadata": {
        "id": "BfSktd7ZK9uD"
      },
      "outputs": [],
      "source": [
        "import numpy as np\n",
        "arr = np.random.randint(1 ,100 , size =(10,5)) # sample - 10 , feature - 5"
      ]
    },
    {
      "cell_type": "code",
      "source": [
        "arr.shape"
      ],
      "metadata": {
        "colab": {
          "base_uri": "https://localhost:8080/"
        },
        "id": "4SKZtFmkLTw2",
        "outputId": "136acad0-d43c-4335-86b0-1a444a2ea9cf"
      },
      "execution_count": 18,
      "outputs": [
        {
          "output_type": "execute_result",
          "data": {
            "text/plain": [
              "(10, 5)"
            ]
          },
          "metadata": {},
          "execution_count": 18
        }
      ]
    },
    {
      "cell_type": "code",
      "source": [
        "b = arr.reshape(5,10)\n",
        "b.shape\n",
        "b.ndim\n",
        "b"
      ],
      "metadata": {
        "colab": {
          "base_uri": "https://localhost:8080/"
        },
        "id": "0Zb1rGfXLVdW",
        "outputId": "8d7dbc4d-d06d-4d6f-e6b1-27da9327adbe"
      },
      "execution_count": 19,
      "outputs": [
        {
          "output_type": "execute_result",
          "data": {
            "text/plain": [
              "array([[63, 76, 44, 55, 87, 38, 44, 34, 23, 45],\n",
              "       [63, 96, 33, 53, 24, 13, 31, 14, 33, 20],\n",
              "       [55, 47, 79, 59, 98, 55, 49,  7, 11, 32],\n",
              "       [10, 13, 13,  2, 24, 25, 83, 83, 41, 11],\n",
              "       [92, 17, 27, 40, 53, 92, 54, 23, 93, 31]])"
            ]
          },
          "metadata": {},
          "execution_count": 19
        }
      ]
    },
    {
      "cell_type": "code",
      "source": [
        "flatten = b.flatten()\n",
        "print(flatten.ndim)\n",
        "flatten\n",
        "\n",
        "column_wise_flattening = np.ravel(b,order= 'C')\n",
        "\n",
        "print(column_wise_flattening)"
      ],
      "metadata": {
        "colab": {
          "base_uri": "https://localhost:8080/"
        },
        "id": "xnSmZngzLXMd",
        "outputId": "ae8f83ed-dcd6-4de5-f835-693953137367"
      },
      "execution_count": 20,
      "outputs": [
        {
          "output_type": "stream",
          "name": "stdout",
          "text": [
            "1\n",
            "[63 76 44 55 87 38 44 34 23 45 63 96 33 53 24 13 31 14 33 20 55 47 79 59\n",
            " 98 55 49  7 11 32 10 13 13  2 24 25 83 83 41 11 92 17 27 40 53 92 54 23\n",
            " 93 31]\n"
          ]
        }
      ]
    },
    {
      "cell_type": "code",
      "source": [
        "a = np.random.randint(1 ,10 , size =(2,3))\n",
        "b = np.random.randint(20 ,30 , size =(2,3))\n",
        "print(a)\n",
        "print(b)"
      ],
      "metadata": {
        "colab": {
          "base_uri": "https://localhost:8080/"
        },
        "id": "WI8gCtBFLfIY",
        "outputId": "91c93c8b-5f46-41e3-8310-616881f8180e"
      },
      "execution_count": 21,
      "outputs": [
        {
          "output_type": "stream",
          "name": "stdout",
          "text": [
            "[[1 8 1]\n",
            " [7 8 7]]\n",
            "[[20 24 21]\n",
            " [25 24 20]]\n"
          ]
        }
      ]
    },
    {
      "cell_type": "markdown",
      "source": [
        "# concatenate"
      ],
      "metadata": {
        "id": "J28LFcxeLnGM"
      }
    },
    {
      "cell_type": "code",
      "source": [
        "con_row = np.concatenate((a,b),axis=0) # row wise\n",
        "print(con_row)\n",
        "con_col = np.concatenate((a,b), axis = 1) # column wise\n",
        "print(con_col)"
      ],
      "metadata": {
        "colab": {
          "base_uri": "https://localhost:8080/"
        },
        "id": "Ur8waRjULgDt",
        "outputId": "e10705e8-ae1c-4c11-bf64-7b6a50dba824"
      },
      "execution_count": 22,
      "outputs": [
        {
          "output_type": "stream",
          "name": "stdout",
          "text": [
            "[[ 1  8  1]\n",
            " [ 7  8  7]\n",
            " [20 24 21]\n",
            " [25 24 20]]\n",
            "[[ 1  8  1 20 24 21]\n",
            " [ 7  8  7 25 24 20]]\n"
          ]
        }
      ]
    },
    {
      "cell_type": "code",
      "source": [
        "# error\n",
        "\n",
        "# row wise concetanate korar shomoi column same thakbe\n",
        "# col wise concat korar shomoi row ta same thakte hobe\n",
        "\n",
        "x = np.random.randint(1 ,10 , size =(2,3))\n",
        "y = np.random.randint(1 ,10 , size =(1,3))\n",
        "\n",
        "r = np.concatenate((x,y),axis =0 )\n",
        "r = np.concatenate((x,y),axis =1 )\n",
        "print(r)"
      ],
      "metadata": {
        "colab": {
          "base_uri": "https://localhost:8080/",
          "height": 211
        },
        "id": "ko3fjiaALsng",
        "outputId": "29b2e915-b55a-4aea-f0d9-7e13154d99c6"
      },
      "execution_count": 23,
      "outputs": [
        {
          "output_type": "error",
          "ename": "ValueError",
          "evalue": "all the input array dimensions except for the concatenation axis must match exactly, but along dimension 0, the array at index 0 has size 2 and the array at index 1 has size 1",
          "traceback": [
            "\u001b[0;31m---------------------------------------------------------------------------\u001b[0m",
            "\u001b[0;31mValueError\u001b[0m                                Traceback (most recent call last)",
            "\u001b[0;32m/tmp/ipython-input-232082735.py\u001b[0m in \u001b[0;36m<cell line: 0>\u001b[0;34m()\u001b[0m\n\u001b[1;32m      8\u001b[0m \u001b[0;34m\u001b[0m\u001b[0m\n\u001b[1;32m      9\u001b[0m \u001b[0mr\u001b[0m \u001b[0;34m=\u001b[0m \u001b[0mnp\u001b[0m\u001b[0;34m.\u001b[0m\u001b[0mconcatenate\u001b[0m\u001b[0;34m(\u001b[0m\u001b[0;34m(\u001b[0m\u001b[0mx\u001b[0m\u001b[0;34m,\u001b[0m\u001b[0my\u001b[0m\u001b[0;34m)\u001b[0m\u001b[0;34m,\u001b[0m\u001b[0maxis\u001b[0m \u001b[0;34m=\u001b[0m\u001b[0;36m0\u001b[0m \u001b[0;34m)\u001b[0m\u001b[0;34m\u001b[0m\u001b[0;34m\u001b[0m\u001b[0m\n\u001b[0;32m---> 10\u001b[0;31m \u001b[0mr\u001b[0m \u001b[0;34m=\u001b[0m \u001b[0mnp\u001b[0m\u001b[0;34m.\u001b[0m\u001b[0mconcatenate\u001b[0m\u001b[0;34m(\u001b[0m\u001b[0;34m(\u001b[0m\u001b[0mx\u001b[0m\u001b[0;34m,\u001b[0m\u001b[0my\u001b[0m\u001b[0;34m)\u001b[0m\u001b[0;34m,\u001b[0m\u001b[0maxis\u001b[0m \u001b[0;34m=\u001b[0m\u001b[0;36m1\u001b[0m \u001b[0;34m)\u001b[0m\u001b[0;34m\u001b[0m\u001b[0;34m\u001b[0m\u001b[0m\n\u001b[0m\u001b[1;32m     11\u001b[0m \u001b[0mprint\u001b[0m\u001b[0;34m(\u001b[0m\u001b[0mr\u001b[0m\u001b[0;34m)\u001b[0m\u001b[0;34m\u001b[0m\u001b[0;34m\u001b[0m\u001b[0m\n",
            "\u001b[0;31mValueError\u001b[0m: all the input array dimensions except for the concatenation axis must match exactly, but along dimension 0, the array at index 0 has size 2 and the array at index 1 has size 1"
          ]
        }
      ]
    },
    {
      "cell_type": "code",
      "source": [
        "# transpose\n",
        "\n",
        "mat = np.array([[10,20,30],\n",
        "                [30,40,50]\n",
        "               ])\n",
        "transpose = mat.T\n",
        "print(transpose)"
      ],
      "metadata": {
        "colab": {
          "base_uri": "https://localhost:8080/"
        },
        "id": "PkCrh-NFLxzT",
        "outputId": "b6f3a668-c310-4135-ce70-8de3e4b29f75"
      },
      "execution_count": 24,
      "outputs": [
        {
          "output_type": "stream",
          "name": "stdout",
          "text": [
            "[[10 30]\n",
            " [20 40]\n",
            " [30 50]]\n"
          ]
        }
      ]
    },
    {
      "cell_type": "code",
      "source": [
        "# array split\n",
        "\n",
        "a = np.random.randint(1 ,10 , size =(10,))\n",
        "print(a)\n",
        "splitted_array = np.array_split(a,3)\n",
        "\n",
        "print(splitted_array)\n",
        "\n",
        "# split -> equal division\n",
        "splitted_array = np.split(a,3)"
      ],
      "metadata": {
        "colab": {
          "base_uri": "https://localhost:8080/",
          "height": 349
        },
        "id": "vyEJtCQkL2Ew",
        "outputId": "b28cadc7-3d03-451e-9425-fdd5d621c081"
      },
      "execution_count": 25,
      "outputs": [
        {
          "output_type": "stream",
          "name": "stdout",
          "text": [
            "[7 9 6 4 3 2 8 5 3 6]\n",
            "[array([7, 9, 6, 4]), array([3, 2, 8]), array([5, 3, 6])]\n"
          ]
        },
        {
          "output_type": "error",
          "ename": "ValueError",
          "evalue": "array split does not result in an equal division",
          "traceback": [
            "\u001b[0;31m---------------------------------------------------------------------------\u001b[0m",
            "\u001b[0;31mValueError\u001b[0m                                Traceback (most recent call last)",
            "\u001b[0;32m/tmp/ipython-input-751097639.py\u001b[0m in \u001b[0;36m<cell line: 0>\u001b[0;34m()\u001b[0m\n\u001b[1;32m      8\u001b[0m \u001b[0;34m\u001b[0m\u001b[0m\n\u001b[1;32m      9\u001b[0m \u001b[0;31m# split -> equal division\u001b[0m\u001b[0;34m\u001b[0m\u001b[0;34m\u001b[0m\u001b[0m\n\u001b[0;32m---> 10\u001b[0;31m \u001b[0msplitted_array\u001b[0m \u001b[0;34m=\u001b[0m \u001b[0mnp\u001b[0m\u001b[0;34m.\u001b[0m\u001b[0msplit\u001b[0m\u001b[0;34m(\u001b[0m\u001b[0ma\u001b[0m\u001b[0;34m,\u001b[0m\u001b[0;36m3\u001b[0m\u001b[0;34m)\u001b[0m\u001b[0;34m\u001b[0m\u001b[0;34m\u001b[0m\u001b[0m\n\u001b[0m",
            "\u001b[0;32m/usr/local/lib/python3.12/dist-packages/numpy/lib/_shape_base_impl.py\u001b[0m in \u001b[0;36msplit\u001b[0;34m(ary, indices_or_sections, axis)\u001b[0m\n\u001b[1;32m    872\u001b[0m         \u001b[0mN\u001b[0m \u001b[0;34m=\u001b[0m \u001b[0mary\u001b[0m\u001b[0;34m.\u001b[0m\u001b[0mshape\u001b[0m\u001b[0;34m[\u001b[0m\u001b[0maxis\u001b[0m\u001b[0;34m]\u001b[0m\u001b[0;34m\u001b[0m\u001b[0;34m\u001b[0m\u001b[0m\n\u001b[1;32m    873\u001b[0m         \u001b[0;32mif\u001b[0m \u001b[0mN\u001b[0m \u001b[0;34m%\u001b[0m \u001b[0msections\u001b[0m\u001b[0;34m:\u001b[0m\u001b[0;34m\u001b[0m\u001b[0;34m\u001b[0m\u001b[0m\n\u001b[0;32m--> 874\u001b[0;31m             raise ValueError(\n\u001b[0m\u001b[1;32m    875\u001b[0m                 'array split does not result in an equal division') from None\n\u001b[1;32m    876\u001b[0m     \u001b[0;32mreturn\u001b[0m \u001b[0marray_split\u001b[0m\u001b[0;34m(\u001b[0m\u001b[0mary\u001b[0m\u001b[0;34m,\u001b[0m \u001b[0mindices_or_sections\u001b[0m\u001b[0;34m,\u001b[0m \u001b[0maxis\u001b[0m\u001b[0;34m)\u001b[0m\u001b[0;34m\u001b[0m\u001b[0;34m\u001b[0m\u001b[0m\n",
            "\u001b[0;31mValueError\u001b[0m: array split does not result in an equal division"
          ]
        }
      ]
    },
    {
      "cell_type": "markdown",
      "source": [
        "# arithmetic operator and mathematical functions"
      ],
      "metadata": {
        "id": "8XwsHqy1L7hg"
      }
    },
    {
      "cell_type": "code",
      "source": [
        "# faster for vectorization\n",
        "\n",
        "x = np.array([ 10 , 8 , 30 , 100 ])\n",
        "y = np.array([ 2 , 3 ,4  ,5 ])\n",
        "\n",
        "add = np.add(x,y)\n",
        "print(add)\n",
        "\n",
        "sub = x-y\n",
        "print(sub)\n",
        "\n",
        "mul = x*y\n",
        "print(mul)\n",
        "\n",
        "div = x/y\n",
        "print(div)\n",
        "\n",
        "remainder = x % y\n",
        "\n",
        "print(remainder)"
      ],
      "metadata": {
        "colab": {
          "base_uri": "https://localhost:8080/"
        },
        "id": "Bvs-Z9koL7EQ",
        "outputId": "49a3bb00-b8b8-4fc6-8df1-545bfb441cef"
      },
      "execution_count": 26,
      "outputs": [
        {
          "output_type": "stream",
          "name": "stdout",
          "text": [
            "[ 12  11  34 105]\n",
            "[ 8  5 26 95]\n",
            "[ 20  24 120 500]\n",
            "[ 5.          2.66666667  7.5        20.        ]\n",
            "[0 2 2 0]\n"
          ]
        }
      ]
    },
    {
      "cell_type": "code",
      "source": [
        "# mathematical function\n",
        "\n",
        "# trigonometry\n",
        "\n",
        "# sin , cos , tan takes values in radian\n",
        "\n",
        "sin_val = np.sin(x)\n",
        "print(sin_val)\n",
        "\n",
        "cos_val = np.cos(x)\n",
        "print(cos_val)\n",
        "\n",
        "deg_con = np.rad2deg(x)\n",
        "print(deg_con)\n",
        "\n",
        "# deg2rad"
      ],
      "metadata": {
        "colab": {
          "base_uri": "https://localhost:8080/"
        },
        "id": "3LwR21joL_gw",
        "outputId": "30bd9f8c-4ee0-401b-e035-a20524b13977"
      },
      "execution_count": 27,
      "outputs": [
        {
          "output_type": "stream",
          "name": "stdout",
          "text": [
            "[-0.54402111  0.98935825 -0.98803162 -0.50636564]\n",
            "[-0.83907153 -0.14550003  0.15425145  0.86231887]\n",
            "[ 572.95779513  458.3662361  1718.87338539 5729.57795131]\n"
          ]
        }
      ]
    },
    {
      "cell_type": "code",
      "source": [
        "#log\n",
        "\n",
        "x = np.array([ 10 , 8 , 16 , 100 ])\n",
        "base_10_log_val = np.log10(x)\n",
        "print(base_10_log_val)\n",
        "\n",
        "\n",
        "two_diye_bhag = np.log2(x)\n",
        "print(two_diye_bhag)\n",
        "\n",
        "sqrt= np.sqrt(x)\n",
        "print(sqrt)"
      ],
      "metadata": {
        "colab": {
          "base_uri": "https://localhost:8080/"
        },
        "id": "b9Ys8SNSMCxj",
        "outputId": "0d05773c-7043-4ac4-cf7e-9df6e413ec1a"
      },
      "execution_count": 28,
      "outputs": [
        {
          "output_type": "stream",
          "name": "stdout",
          "text": [
            "[1.         0.90308999 1.20411998 2.        ]\n",
            "[3.32192809 3.         4.         6.64385619]\n",
            "[ 3.16227766  2.82842712  4.         10.        ]\n"
          ]
        }
      ]
    },
    {
      "cell_type": "code",
      "source": [
        "# different\n",
        "s = np.sum(x)\n",
        "print(s)\n",
        "\n",
        "#prefix sum\n",
        "cumul = np.cumsum(x)\n",
        "print(cumul)"
      ],
      "metadata": {
        "colab": {
          "base_uri": "https://localhost:8080/"
        },
        "id": "rfwbNIzGMEYl",
        "outputId": "198ca6f2-bc40-44e1-f2ce-bacbd4a28781"
      },
      "execution_count": 33,
      "outputs": [
        {
          "output_type": "stream",
          "name": "stdout",
          "text": [
            "134\n",
            "[ 10  18  34 134]\n"
          ]
        }
      ]
    },
    {
      "cell_type": "code",
      "source": [
        "#broadcasting\n",
        "\n",
        "x = np.array([ 10 , 8 , 16 , 100 ])\n",
        "\n",
        "result = x + 2\n",
        "\n",
        "#rulings = columns er size and vector er size same hote hobe\n",
        "\n",
        "matrix = np.array([[10,20,30],\n",
        "                [30,40,50]\n",
        "               ])\n",
        "result = matrix + 2\n",
        "\n",
        "vector = np.array([1,2,3,4])\n",
        "\n",
        "result = matrix +vector\n",
        "print(result)"
      ],
      "metadata": {
        "colab": {
          "base_uri": "https://localhost:8080/",
          "height": 193
        },
        "id": "yPxmrjLYMmX6",
        "outputId": "ee523fc9-85a7-4e2f-9bdc-df028b16f5fd"
      },
      "execution_count": 34,
      "outputs": [
        {
          "output_type": "error",
          "ename": "ValueError",
          "evalue": "operands could not be broadcast together with shapes (2,3) (4,) ",
          "traceback": [
            "\u001b[0;31m---------------------------------------------------------------------------\u001b[0m",
            "\u001b[0;31mValueError\u001b[0m                                Traceback (most recent call last)",
            "\u001b[0;32m/tmp/ipython-input-651364057.py\u001b[0m in \u001b[0;36m<cell line: 0>\u001b[0;34m()\u001b[0m\n\u001b[1;32m     14\u001b[0m \u001b[0mvector\u001b[0m \u001b[0;34m=\u001b[0m \u001b[0mnp\u001b[0m\u001b[0;34m.\u001b[0m\u001b[0marray\u001b[0m\u001b[0;34m(\u001b[0m\u001b[0;34m[\u001b[0m\u001b[0;36m1\u001b[0m\u001b[0;34m,\u001b[0m\u001b[0;36m2\u001b[0m\u001b[0;34m,\u001b[0m\u001b[0;36m3\u001b[0m\u001b[0;34m,\u001b[0m\u001b[0;36m4\u001b[0m\u001b[0;34m]\u001b[0m\u001b[0;34m)\u001b[0m\u001b[0;34m\u001b[0m\u001b[0;34m\u001b[0m\u001b[0m\n\u001b[1;32m     15\u001b[0m \u001b[0;34m\u001b[0m\u001b[0m\n\u001b[0;32m---> 16\u001b[0;31m \u001b[0mresult\u001b[0m \u001b[0;34m=\u001b[0m \u001b[0mmatrix\u001b[0m \u001b[0;34m+\u001b[0m\u001b[0mvector\u001b[0m\u001b[0;34m\u001b[0m\u001b[0;34m\u001b[0m\u001b[0m\n\u001b[0m\u001b[1;32m     17\u001b[0m \u001b[0mprint\u001b[0m\u001b[0;34m(\u001b[0m\u001b[0mresult\u001b[0m\u001b[0;34m)\u001b[0m\u001b[0;34m\u001b[0m\u001b[0;34m\u001b[0m\u001b[0m\n",
            "\u001b[0;31mValueError\u001b[0m: operands could not be broadcast together with shapes (2,3) (4,) "
          ]
        }
      ]
    },
    {
      "cell_type": "markdown",
      "source": [
        "# Logical Function"
      ],
      "metadata": {
        "id": "sdUIEdozMrpH"
      }
    },
    {
      "cell_type": "code",
      "source": [
        "# comparison - >,< , >= ,<= , == , !=\n",
        "\n",
        "x = np.array([ 10 , 8 , 16 , 100 ])\n",
        "y = np.array([ 2 , 3 ,16  ,5 ])\n",
        "\n",
        "greater_than = x>y\n",
        "\n",
        "print(greater_than)\n",
        "\n",
        "equal = x==y\n",
        "\n",
        "print(equal)\n",
        "\n",
        "# all () -> shob true kina\n",
        "# any() -> jekono ekta true ase kina\n",
        "\n",
        "print(np.all(greater_than))\n",
        "\n",
        "print(np.any(equal))"
      ],
      "metadata": {
        "colab": {
          "base_uri": "https://localhost:8080/"
        },
        "id": "m24G73paMtGs",
        "outputId": "6d62f7e3-0b16-4622-fb4f-c1599e81e5cb"
      },
      "execution_count": 35,
      "outputs": [
        {
          "output_type": "stream",
          "name": "stdout",
          "text": [
            "[ True  True False  True]\n",
            "[False False  True False]\n",
            "False\n",
            "True\n"
          ]
        }
      ]
    },
    {
      "cell_type": "markdown",
      "source": [
        "# Sorting"
      ],
      "metadata": {
        "id": "4_4H1M1QMvmS"
      }
    },
    {
      "cell_type": "code",
      "source": [
        "#inplace\n",
        "x = np.array([ 10 , 8 , 16 , 100 ])\n",
        "\n",
        "z = x.copy()\n",
        "\n",
        "print(z)\n",
        "\n",
        "z.sort()\n",
        "\n",
        "print(z)"
      ],
      "metadata": {
        "colab": {
          "base_uri": "https://localhost:8080/"
        },
        "id": "j0TfdX8LMwg3",
        "outputId": "8b092bb5-d180-43d7-a683-a5937f8c1630"
      },
      "execution_count": 36,
      "outputs": [
        {
          "output_type": "stream",
          "name": "stdout",
          "text": [
            "[ 10   8  16 100]\n",
            "[  8  10  16 100]\n"
          ]
        }
      ]
    },
    {
      "cell_type": "code",
      "source": [
        "# copy sorting\n",
        "print(x)\n",
        "sort_arr = np.sort(x)\n",
        "\n",
        "print(sort_arr)\n",
        "\n",
        "print(x)"
      ],
      "metadata": {
        "colab": {
          "base_uri": "https://localhost:8080/"
        },
        "id": "syB9aSBBMxpu",
        "outputId": "e3e0e65e-aef1-49d9-cd32-27b5d9f6a569"
      },
      "execution_count": 37,
      "outputs": [
        {
          "output_type": "stream",
          "name": "stdout",
          "text": [
            "[ 10   8  16 100]\n",
            "[  8  10  16 100]\n",
            "[ 10   8  16 100]\n"
          ]
        }
      ]
    },
    {
      "cell_type": "code",
      "source": [
        "# 2d array sorting\n",
        "mat = np.array([[10,3,5],[8,4,9]])\n",
        "\n",
        "# horizon axis = 1\n",
        "\n",
        "hor_sort = np.sort(mat,axis=1)\n",
        "print(hor_sort)\n",
        "\n",
        "vert_sort = np.sort(mat,axis=0)\n",
        "print(vert_sort)"
      ],
      "metadata": {
        "colab": {
          "base_uri": "https://localhost:8080/"
        },
        "id": "9YBIuKvWM0gc",
        "outputId": "be1060fc-2049-44ab-b213-314b4ba18c34"
      },
      "execution_count": 38,
      "outputs": [
        {
          "output_type": "stream",
          "name": "stdout",
          "text": [
            "[[ 3  5 10]\n",
            " [ 4  8  9]]\n",
            "[[ 8  3  5]\n",
            " [10  4  9]]\n"
          ]
        }
      ]
    },
    {
      "cell_type": "markdown",
      "source": [
        "# Searching"
      ],
      "metadata": {
        "id": "U4LTpx0UM13k"
      }
    },
    {
      "cell_type": "code",
      "source": [
        "print(x)"
      ],
      "metadata": {
        "colab": {
          "base_uri": "https://localhost:8080/"
        },
        "id": "74n9RIuoM3np",
        "outputId": "bd2f665c-1207-4e9e-a975-8fb34c094faa"
      },
      "execution_count": 39,
      "outputs": [
        {
          "output_type": "stream",
          "name": "stdout",
          "text": [
            "[ 10   8  16 100]\n"
          ]
        }
      ]
    },
    {
      "cell_type": "code",
      "source": [
        "# np.where( condition , x , y ) if true x , otherwise replace with y\n",
        "\n",
        "index = np.where(x==8) # returns index\n",
        "print(index)\n",
        "\n",
        "arr = np.where(x>8,x,0) # returns array\n",
        "print(arr)"
      ],
      "metadata": {
        "colab": {
          "base_uri": "https://localhost:8080/"
        },
        "id": "5Yb3Y1ePM47j",
        "outputId": "280cc4d4-af56-45f9-8ded-1b753558cd4a"
      },
      "execution_count": 40,
      "outputs": [
        {
          "output_type": "stream",
          "name": "stdout",
          "text": [
            "(array([1]),)\n",
            "[ 10   0  16 100]\n"
          ]
        }
      ]
    },
    {
      "cell_type": "code",
      "source": [
        "print(mat)"
      ],
      "metadata": {
        "colab": {
          "base_uri": "https://localhost:8080/"
        },
        "id": "VF0VZNckM685",
        "outputId": "d6ef2fa4-e2dd-44bc-b792-9d280d1e0691"
      },
      "execution_count": 41,
      "outputs": [
        {
          "output_type": "stream",
          "name": "stdout",
          "text": [
            "[[10  3  5]\n",
            " [ 8  4  9]]\n"
          ]
        }
      ]
    },
    {
      "cell_type": "code",
      "source": [
        "index = np.where(mat>8) # returns index\n",
        "print(index)\n",
        "\n",
        "arr = np.where(mat>8,mat,0) # returns array\n",
        "print(arr)"
      ],
      "metadata": {
        "colab": {
          "base_uri": "https://localhost:8080/"
        },
        "id": "fpAhmb2sM8qL",
        "outputId": "fa034cbe-8716-43d0-a69d-71c9f1307ccd"
      },
      "execution_count": 42,
      "outputs": [
        {
          "output_type": "stream",
          "name": "stdout",
          "text": [
            "(array([0, 1]), array([0, 2]))\n",
            "[[10  0  0]\n",
            " [ 0  0  9]]\n"
          ]
        }
      ]
    },
    {
      "cell_type": "code",
      "source": [
        "x = np.array([ 10,100 , 8 , 16 , 100 ])\n",
        "\n",
        "maximum_value_indx = np.argmax(x)\n",
        "minimum_value_indx = np.argmin(x)\n",
        "\n",
        "print(maximum_value_indx)\n",
        "print(minimum_value_indx)"
      ],
      "metadata": {
        "colab": {
          "base_uri": "https://localhost:8080/"
        },
        "id": "4STPDJ1XM-Ms",
        "outputId": "7a098f2b-c349-4230-fc2b-4cf151858048"
      },
      "execution_count": 43,
      "outputs": [
        {
          "output_type": "stream",
          "name": "stdout",
          "text": [
            "1\n",
            "2\n"
          ]
        }
      ]
    },
    {
      "cell_type": "markdown",
      "source": [
        "# counting in ndarray"
      ],
      "metadata": {
        "id": "6nvF_qs8NAPh"
      }
    },
    {
      "cell_type": "code",
      "source": [
        "a = np.random.randint(1 ,100 , size =(100,))\n",
        "print(a)"
      ],
      "metadata": {
        "colab": {
          "base_uri": "https://localhost:8080/"
        },
        "id": "AlJvmN6tNBBr",
        "outputId": "53a24e02-27da-4e72-9e8f-2ad484ab8e8b"
      },
      "execution_count": 44,
      "outputs": [
        {
          "output_type": "stream",
          "name": "stdout",
          "text": [
            "[39 43 22 57 77 23 57 57 98 36 42 54 97 98 58 30  8 71 95 86 98 60 51 88\n",
            " 87 43 32 88 52 45  4 41 92 48 11 98 69 79 18 65 15 87 91 61 75 25 64  6\n",
            " 41 93 18  1 71 68 95 11 21 61 84 83 89 48 11 29 84 87 93 28 43 10 32 31\n",
            " 31 56 47 69 97 10 71 20 51 67 50 42  6 80 10 77 47 40 54 23 85 77 80 89\n",
            " 56 20 94  2]\n"
          ]
        }
      ]
    },
    {
      "cell_type": "code",
      "source": [
        "value_great_than_60 = np.count_nonzero(a==97)\n",
        "print(value_great_than_60)"
      ],
      "metadata": {
        "colab": {
          "base_uri": "https://localhost:8080/"
        },
        "id": "tc6OxRyHNCjP",
        "outputId": "cc06b943-8240-41cd-94e3-3a689c9e0276"
      },
      "execution_count": 45,
      "outputs": [
        {
          "output_type": "stream",
          "name": "stdout",
          "text": [
            "2\n"
          ]
        }
      ]
    },
    {
      "cell_type": "code",
      "source": [
        "unique_value,count = np.unique(a,return_counts=True)\n",
        "\n",
        "print(unique_value)\n",
        "print(count)"
      ],
      "metadata": {
        "colab": {
          "base_uri": "https://localhost:8080/"
        },
        "id": "sC4f_SKcNDry",
        "outputId": "aadc0b01-cc76-42e4-e009-afac3413c2cb"
      },
      "execution_count": 46,
      "outputs": [
        {
          "output_type": "stream",
          "name": "stdout",
          "text": [
            "[ 1  2  4  6  8 10 11 15 18 20 21 22 23 25 28 29 30 31 32 36 39 40 41 42\n",
            " 43 45 47 48 50 51 52 54 56 57 58 60 61 64 65 67 68 69 71 75 77 79 80 83\n",
            " 84 85 86 87 88 89 91 92 93 94 95 97 98]\n",
            "[1 1 1 2 1 3 3 1 2 2 1 1 2 1 1 1 1 2 2 1 1 1 2 2 3 1 2 2 1 2 1 2 2 3 1 1 2\n",
            " 1 1 1 1 2 3 1 3 1 2 1 2 1 1 3 2 2 1 1 2 1 2 2 4]\n"
          ]
        }
      ]
    },
    {
      "cell_type": "markdown",
      "source": [
        "# statistical function"
      ],
      "metadata": {
        "id": "0ef1c49XNFr9"
      }
    },
    {
      "cell_type": "code",
      "source": [
        "#data load\n",
        "\n",
        "data = np.genfromtxt('student_scores.csv' ,delimiter=',',skip_header=1)\n",
        "\n",
        "print(data)"
      ],
      "metadata": {
        "colab": {
          "base_uri": "https://localhost:8080/"
        },
        "id": "p2k7BF9qNHAh",
        "outputId": "2e09d687-e70a-4d32-efd9-f9647fd2034f"
      },
      "execution_count": 49,
      "outputs": [
        {
          "output_type": "stream",
          "name": "stdout",
          "text": [
            "[[78. 85. 82.]\n",
            " [56. 67. 72.]\n",
            " [89. 92. 88.]\n",
            " [45. 52. 58.]\n",
            " [70. 75. 80.]\n",
            " [92. 90. 91.]\n",
            " [61. 60. 62.]\n",
            " [55. 57. 54.]\n",
            " [88. 89. 87.]\n",
            " [74. 70. 76.]\n",
            " [66. 69. 68.]\n",
            " [80. 82. 81.]\n",
            " [59. 64. 60.]\n",
            " [73. 78. 74.]\n",
            " [91. 93. 90.]\n",
            " [68. 71. 69.]\n",
            " [77. 79. 78.]\n",
            " [84. 86. 85.]\n",
            " [62. 63. 65.]\n",
            " [95. 97. 96.]]\n"
          ]
        }
      ]
    },
    {
      "cell_type": "code",
      "source": [
        "# statistics\n",
        "math_marks = data[::,:1]\n",
        "\n",
        "print(math_marks.T)\n",
        "\n",
        "max_math_marks = np.max(math_marks)\n",
        "print(max_math_marks)\n",
        "\n",
        "min_math_marks = np.min(math_marks)\n",
        "print(min_math_marks)\n",
        "\n",
        "average_math_marks = np.mean(math_marks)\n",
        "print(average_math_marks)\n",
        "\n",
        "median_math_marks = np.median(math_marks)\n",
        "print(median_math_marks)\n",
        "\n",
        "# standard deviation\n",
        "\n",
        "std_math_marks = np.std(math_marks)\n",
        "print(std_math_marks)"
      ],
      "metadata": {
        "colab": {
          "base_uri": "https://localhost:8080/"
        },
        "id": "7wteE5HJNnUY",
        "outputId": "44582827-58cc-4e1a-ce60-1fdbd103865a"
      },
      "execution_count": 50,
      "outputs": [
        {
          "output_type": "stream",
          "name": "stdout",
          "text": [
            "[[78. 56. 89. 45. 70. 92. 61. 55. 88. 74. 66. 80. 59. 73. 91. 68. 77. 84.\n",
            "  62. 95.]]\n",
            "95.0\n",
            "45.0\n",
            "73.15\n",
            "73.5\n",
            "13.788672887555204\n"
          ]
        }
      ]
    },
    {
      "cell_type": "code",
      "source": [
        "study_hours = np.array([2, 4, 5, 7, 8])\n",
        "exam_scores = np.array([65, 75, 78, 88, 92])\n",
        "\n",
        "data = np.array([study_hours, exam_scores])\n",
        "\n",
        "correlation = np.corrcoef(data)\n",
        "\n",
        "print(\"Correlation Matrix:\\n\", correlation)"
      ],
      "metadata": {
        "colab": {
          "base_uri": "https://localhost:8080/"
        },
        "id": "lnshv1GgNqVt",
        "outputId": "c6e42711-481c-4a56-dc4e-4465e749f837"
      },
      "execution_count": 51,
      "outputs": [
        {
          "output_type": "stream",
          "name": "stdout",
          "text": [
            "Correlation Matrix:\n",
            " [[1.         0.99859154]\n",
            " [0.99859154 1.        ]]\n"
          ]
        }
      ]
    },
    {
      "cell_type": "markdown",
      "source": [
        "# linear algebra"
      ],
      "metadata": {
        "id": "foIIPhQONr_n"
      }
    },
    {
      "cell_type": "code",
      "source": [
        "A = np.array([\n",
        "    [1, 2, 3],\n",
        "    [4, 5, 6]\n",
        "])\n",
        "\n",
        "B = np.array([\n",
        "    [7, 8],\n",
        "    [9, 10],\n",
        "    [11, 12]\n",
        "])\n",
        "\n",
        "# a er column and b er row same length hote hobe\n",
        "dot_product = np.dot(A,B)\n",
        "print(dot_product)\n",
        "\n",
        "\n",
        "# trace\n",
        "print(np.trace(B))"
      ],
      "metadata": {
        "colab": {
          "base_uri": "https://localhost:8080/"
        },
        "id": "KhJvsVMfNuvX",
        "outputId": "fc61122b-9c29-4ae4-8507-02d3cd1ca6fe"
      },
      "execution_count": 52,
      "outputs": [
        {
          "output_type": "stream",
          "name": "stdout",
          "text": [
            "[[ 58  64]\n",
            " [139 154]]\n",
            "17\n"
          ]
        }
      ]
    },
    {
      "cell_type": "code",
      "source": [
        "sq_mat = np.array([[1,2,3],\n",
        "          [4,5,6],\n",
        "          [7,8,9]\n",
        "         ])\n",
        "det_of_sq = np.linalg.det(sq_mat)\n",
        "\n",
        "rank_sq = np.linalg.matrix_rank(sq_mat)\n",
        "\n",
        "print(det_of_sq)\n",
        "\n",
        "print(rank_sq)"
      ],
      "metadata": {
        "colab": {
          "base_uri": "https://localhost:8080/"
        },
        "id": "Jh-Vgm7vNwpl",
        "outputId": "d772b61a-1091-4019-f8b7-a2961dbe1390"
      },
      "execution_count": 54,
      "outputs": [
        {
          "output_type": "stream",
          "name": "stdout",
          "text": [
            "0.0\n",
            "2\n"
          ]
        }
      ]
    },
    {
      "cell_type": "code",
      "source": [
        "A = np.array([[1, 2], [3, 4]])\n",
        "B = np.array([[5, 6], [7, 8]])\n",
        "\n",
        "print(np.dot(A,B))"
      ],
      "metadata": {
        "colab": {
          "base_uri": "https://localhost:8080/"
        },
        "id": "0xxst4RtNyVq",
        "outputId": "1bbf4510-8587-4cc0-91bf-b371ea6efb6c"
      },
      "execution_count": 55,
      "outputs": [
        {
          "output_type": "stream",
          "name": "stdout",
          "text": [
            "[[19 22]\n",
            " [43 50]]\n"
          ]
        }
      ]
    }
  ]
}