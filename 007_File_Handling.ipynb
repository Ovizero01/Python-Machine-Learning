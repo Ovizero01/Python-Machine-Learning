{
  "nbformat": 4,
  "nbformat_minor": 0,
  "metadata": {
    "colab": {
      "provenance": [],
      "authorship_tag": "ABX9TyPfn2qUBhGebTSGpJ5UHzWU",
      "include_colab_link": true
    },
    "kernelspec": {
      "name": "python3",
      "display_name": "Python 3"
    },
    "language_info": {
      "name": "python"
    }
  },
  "cells": [
    {
      "cell_type": "markdown",
      "metadata": {
        "id": "view-in-github",
        "colab_type": "text"
      },
      "source": [
        "<a href=\"https://colab.research.google.com/github/Ovizero01/Python-Machine-Learning/blob/main/007_File_Handling.ipynb\" target=\"_parent\"><img src=\"https://colab.research.google.com/assets/colab-badge.svg\" alt=\"Open In Colab\"/></a>"
      ]
    },
    {
      "cell_type": "markdown",
      "source": [
        "# File Read"
      ],
      "metadata": {
        "id": "Mkw2EqO1j2jF"
      }
    },
    {
      "cell_type": "code",
      "source": [
        "file = open(\"./sample_data/sample.txt\", \"r\")\n",
        "content = file.read()\n",
        "print(type(content))\n",
        "file.close()\n",
        "print(file.closed)"
      ],
      "metadata": {
        "colab": {
          "base_uri": "https://localhost:8080/"
        },
        "id": "eZP7lu7-dmmw",
        "outputId": "d7ade98e-33c2-43db-8025-2b943874b0c3"
      },
      "execution_count": null,
      "outputs": [
        {
          "output_type": "stream",
          "name": "stdout",
          "text": [
            "<class 'str'>\n",
            "True\n"
          ]
        }
      ]
    },
    {
      "cell_type": "code",
      "source": [
        "file = open(\"./sample_data/sample.txt\", \"r\")\n",
        "content = file.readlines()\n",
        "content = list(map(str.strip, content))\n",
        "filter_content = list(filter(lambda x : len(x) > 0, content))\n",
        "print(filter_content)"
      ],
      "metadata": {
        "colab": {
          "base_uri": "https://localhost:8080/"
        },
        "id": "aCooQndzzNm7",
        "outputId": "79cf06b5-40d0-4f38-a94f-22775978419b"
      },
      "execution_count": null,
      "outputs": [
        {
          "output_type": "stream",
          "name": "stdout",
          "text": [
            "['Hello World', 'Welcome to the AI/ML']\n"
          ]
        }
      ]
    },
    {
      "cell_type": "code",
      "source": [
        "with open(\"./sample_data/sample.txt\", \"r\") as file:\n",
        "  for line in file:\n",
        "    l = line.strip()\n",
        "    print(l)"
      ],
      "metadata": {
        "colab": {
          "base_uri": "https://localhost:8080/"
        },
        "id": "ITX2z78mz_gU",
        "outputId": "a14578eb-7182-41f7-ee05-2eb297b68a9a"
      },
      "execution_count": null,
      "outputs": [
        {
          "output_type": "stream",
          "name": "stdout",
          "text": [
            "Hello World\n",
            "Welcome to the AI/ML\n"
          ]
        }
      ]
    },
    {
      "cell_type": "markdown",
      "source": [
        "# File Write"
      ],
      "metadata": {
        "id": "fQ7ste3RkBP5"
      }
    },
    {
      "cell_type": "code",
      "source": [
        "# creating a new file and writing there\n",
        "with open(\"./sample_data/test.txt\", \"w\") as file:\n",
        "  file.write(\"Hello test file\")\n",
        "  file.write(\"How is learning going?\")"
      ],
      "metadata": {
        "id": "8DNOK96k03jl"
      },
      "execution_count": null,
      "outputs": []
    },
    {
      "cell_type": "code",
      "source": [
        "# writing on a existing file\n",
        "# it overwrites the file\n",
        "with open(\"./sample_data/test.txt\", \"w\") as file:\n",
        "  file.write(\"Secpmd attempt\\n\")\n",
        "  file.write(\"learning is going fast\\n\")"
      ],
      "metadata": {
        "id": "X37b3G43CRA2"
      },
      "execution_count": null,
      "outputs": []
    },
    {
      "cell_type": "code",
      "source": [
        "# No overwriting just append the text later\n",
        "with open(\"./sample_data/test.txt\", \"a\") as file:\n",
        "  file.write(\"The learning of AI/ML is fun\\n\")\n",
        "  file.write(\"I am enjoying the classes\")"
      ],
      "metadata": {
        "id": "3WtTdzj0C3vW"
      },
      "execution_count": null,
      "outputs": []
    },
    {
      "cell_type": "code",
      "source": [
        "strings = ['hello', 'hi', 'good bye', 'what up']\n",
        "with open(\"./sample_data/test2.txt\", \"a\") as file:\n",
        "  file.writelines(strings)"
      ],
      "metadata": {
        "id": "bvgX9vqYFBKL"
      },
      "execution_count": null,
      "outputs": []
    },
    {
      "cell_type": "code",
      "source": [
        "with open(\"./sample_data/sample.txt\", \"r\") as file:\n",
        "  print(file.tell()) # currently cursor koi ase\n",
        "  print(file.read(5))\n",
        "\n",
        "  print(file.tell())\n",
        "  print(file.read())"
      ],
      "metadata": {
        "colab": {
          "base_uri": "https://localhost:8080/"
        },
        "id": "IodndrkPHC-_",
        "outputId": "62d52a99-f305-4950-81e9-b59e70c3a26c"
      },
      "execution_count": null,
      "outputs": [
        {
          "output_type": "stream",
          "name": "stdout",
          "text": [
            "0\n",
            "Hello\n",
            "5\n",
            " World\n"
          ]
        }
      ]
    },
    {
      "cell_type": "code",
      "source": [
        "with open(\"./sample_data/sample.txt\", \"r\") as file:\n",
        "  print(file.tell())\n",
        "  file.seek(5)\n",
        "  print(file.tell())"
      ],
      "metadata": {
        "colab": {
          "base_uri": "https://localhost:8080/"
        },
        "id": "NVs5x_5LJIvC",
        "outputId": "499098b0-6127-464f-a7cd-df3d9662271e"
      },
      "execution_count": null,
      "outputs": [
        {
          "output_type": "stream",
          "name": "stdout",
          "text": [
            "0\n",
            "5\n"
          ]
        }
      ]
    },
    {
      "cell_type": "markdown",
      "source": [
        "# Practice 1:\n",
        "Get the text from sample.txt , and count the following\n",
        "\n",
        "Number of lines\n",
        "\n",
        "Number of words\n",
        "\n",
        "Number of characters\n",
        "\n",
        "and save it to the counter_of_string.txt file"
      ],
      "metadata": {
        "id": "F8XdB8qQhr2L"
      }
    },
    {
      "cell_type": "code",
      "source": [
        "from functools import reduce\n",
        "with open(\"./sample_data/sample.txt\", \"r\") as file:\n",
        "  string_list = file.readlines()\n",
        "\n",
        "  # total line koyta\n",
        "  total_lines = len(string_list)\n",
        "\n",
        "  # word ber korbo\n",
        "  number_of_words = list(map(lambda x : len(x.split()), string_list))\n",
        "  # total words\n",
        "  total_number_of_words = reduce(lambda x, y: x + y, number_of_words)\n",
        "\n",
        "  # cleaning process\n",
        "  # 1. new line delete\n",
        "  string_list = list(map(str.strip, string_list))\n",
        "\n",
        "  # 2. space delete\n",
        "  string_list = list(map(lambda x : x .replace(\" \", \"\"), string_list))\n",
        "\n",
        "  # koita character\n",
        "  number_of_character = list(map(lambda x : len(x), string_list))\n",
        "  # total character\n",
        "  total_number_of_character = reduce(lambda x, y: x + y, number_of_character)\n",
        "\n",
        "with open(\"./sample_data/counter_of_string.txt\", \"w\") as file:\n",
        "  file.write(f\"total line: {total_lines}\\ntotal number of words: {total_number_of_words}\\ntotal number of char: {total_number_of_character}\")"
      ],
      "metadata": {
        "id": "BamoXkccKfVa"
      },
      "execution_count": null,
      "outputs": []
    },
    {
      "cell_type": "markdown",
      "source": [
        "# Practice 2:\n",
        "Write then read with one open"
      ],
      "metadata": {
        "id": "YeJx-3KzhwlF"
      }
    },
    {
      "cell_type": "code",
      "source": [
        "with open(\"./sample_data/write_read.txt\", \"w+\") as file:\n",
        "  file.write(\"Hello world\")\n",
        "\n",
        "  print(file.tell())\n",
        "  file.seek(0)\n",
        "  print(file.read())\n",
        "\n",
        "  file.truncate(5)\n",
        "  file.seek(0)\n",
        "  print(file.read())"
      ],
      "metadata": {
        "colab": {
          "base_uri": "https://localhost:8080/"
        },
        "id": "iqOlcuspiLmb",
        "outputId": "b8a07918-5618-4e29-bf73-bb0b2b4726b7"
      },
      "execution_count": null,
      "outputs": [
        {
          "output_type": "stream",
          "name": "stdout",
          "text": [
            "11\n",
            "Hello world\n",
            "Hello\n"
          ]
        }
      ]
    },
    {
      "cell_type": "markdown",
      "source": [
        "# Exception Handling"
      ],
      "metadata": {
        "id": "r9glNHHQe52Y"
      }
    },
    {
      "cell_type": "code",
      "source": [
        "n = int(input())\n",
        "\n",
        "try:\n",
        "  a = 10 / n\n",
        "except ZeroDivisionError:\n",
        "  print(\"you can't divide a number by 0\")\n",
        "\n",
        "print(\"hello world\")"
      ],
      "metadata": {
        "colab": {
          "base_uri": "https://localhost:8080/"
        },
        "id": "7Xr2Mvrhe8gz",
        "outputId": "2424d44f-65fb-493e-f4b2-2a0bbfbebc76"
      },
      "execution_count": 12,
      "outputs": [
        {
          "output_type": "stream",
          "name": "stdout",
          "text": [
            "0\n",
            "division by zero\n",
            "hello world\n"
          ]
        }
      ]
    },
    {
      "cell_type": "code",
      "source": [
        "try:\n",
        "  x = y\n",
        "except ZeroDivisionError:\n",
        "  print(\"you can't divide a number by 0\")\n",
        "except Exception as e:\n",
        "  print(e)\n",
        "\n",
        "print(\"hello world\")"
      ],
      "metadata": {
        "colab": {
          "base_uri": "https://localhost:8080/"
        },
        "id": "_TAZmIzwfzE_",
        "outputId": "fb5a4966-5441-45b5-b3f6-30e4daf45326"
      },
      "execution_count": 11,
      "outputs": [
        {
          "output_type": "stream",
          "name": "stdout",
          "text": [
            "name 'y' is not defined\n",
            "hello world\n"
          ]
        }
      ]
    },
    {
      "cell_type": "code",
      "source": [
        "# model train\n",
        "\n",
        "try:\n",
        "  file = open(\"./sample_data/data1.txt\", \"r\")\n",
        "except Exception as e:\n",
        "  print(e)\n",
        "else:\n",
        "  # model train\n",
        "  print(file.read())\n",
        "finally:\n",
        "  print(\"Gpu is stopped\")"
      ],
      "metadata": {
        "colab": {
          "base_uri": "https://localhost:8080/"
        },
        "id": "0EzTC4tthDQm",
        "outputId": "cecbf3f3-52c6-4df4-cd83-ae36560a2088"
      },
      "execution_count": 19,
      "outputs": [
        {
          "output_type": "stream",
          "name": "stdout",
          "text": [
            "Hello\n",
            "Gpu is stopped\n"
          ]
        }
      ]
    }
  ]
}