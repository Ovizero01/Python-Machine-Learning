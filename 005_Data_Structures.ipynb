{
  "nbformat": 4,
  "nbformat_minor": 0,
  "metadata": {
    "colab": {
      "provenance": [],
      "authorship_tag": "ABX9TyOgcFi+5r4u0xjH+aEDf1sQ",
      "include_colab_link": true
    },
    "kernelspec": {
      "name": "python3",
      "display_name": "Python 3"
    },
    "language_info": {
      "name": "python"
    }
  },
  "cells": [
    {
      "cell_type": "markdown",
      "metadata": {
        "id": "view-in-github",
        "colab_type": "text"
      },
      "source": [
        "<a href=\"https://colab.research.google.com/github/Ovizero01/Python-Machine-Learning/blob/main/005_Data_Structures.ipynb\" target=\"_parent\"><img src=\"https://colab.research.google.com/assets/colab-badge.svg\" alt=\"Open In Colab\"/></a>"
      ]
    },
    {
      "cell_type": "markdown",
      "source": [
        "# Tuples"
      ],
      "metadata": {
        "id": "rRxblVdCTEQi"
      }
    },
    {
      "cell_type": "code",
      "execution_count": 1,
      "metadata": {
        "colab": {
          "base_uri": "https://localhost:8080/"
        },
        "id": "A5NV2UcpTAgM",
        "outputId": "f24bca1b-fe62-49a2-c77d-4f43f3158e3e"
      },
      "outputs": [
        {
          "output_type": "stream",
          "name": "stdout",
          "text": [
            "<class 'tuple'> (10, 20, 30)\n"
          ]
        }
      ],
      "source": [
        "# declaration\n",
        "\n",
        "tup = (10,20,30,40)\n",
        "\n",
        "float_tup = (10.5,10.2)\n",
        "mixed_tup = (10 , 10.5 , \"str\", True)\n",
        "\n",
        "\n",
        "lst = [10,20,30]\n",
        "\n",
        "tup1 = tuple(lst)\n",
        "\n",
        "print(type(tup1), tup1)"
      ]
    },
    {
      "cell_type": "code",
      "source": [
        "# Access\n",
        "tup = ( 10 , 20 , 30 , 10.5 , \"str\" , False )\n",
        "\n",
        "#index\n",
        "print(tup[3])\n",
        "\n",
        "# slicing\n",
        "\n",
        "new_tup = tup[0:3]\n",
        "print(new_tup)"
      ],
      "metadata": {
        "colab": {
          "base_uri": "https://localhost:8080/"
        },
        "id": "EH4fbWYnTHXT",
        "outputId": "bced321a-89fa-42a6-c354-f9f65faaa9f4"
      },
      "execution_count": 2,
      "outputs": [
        {
          "output_type": "stream",
          "name": "stdout",
          "text": [
            "10.5\n",
            "(10, 20, 30)\n"
          ]
        }
      ]
    },
    {
      "cell_type": "code",
      "source": [
        "# mutable\n",
        "\n",
        "lst = [ 10 , 20 , 30 , 40 ]\n",
        "lst.append(60)\n",
        "lst[1] = 100\n",
        "print(lst)\n",
        "\n",
        "# immutable\n",
        "tup= ( 10 , 20 , 30 , 40 )\n",
        "tup[1]= 100\n",
        "print(tup)"
      ],
      "metadata": {
        "colab": {
          "base_uri": "https://localhost:8080/",
          "height": 211
        },
        "id": "_6MuCjTZTKli",
        "outputId": "04528496-2c08-485a-a3c9-f36477fd000b"
      },
      "execution_count": 3,
      "outputs": [
        {
          "output_type": "stream",
          "name": "stdout",
          "text": [
            "[10, 100, 30, 40, 60]\n"
          ]
        },
        {
          "output_type": "error",
          "ename": "TypeError",
          "evalue": "'tuple' object does not support item assignment",
          "traceback": [
            "\u001b[0;31m---------------------------------------------------------------------------\u001b[0m",
            "\u001b[0;31mTypeError\u001b[0m                                 Traceback (most recent call last)",
            "\u001b[0;32m/tmp/ipython-input-3263753088.py\u001b[0m in \u001b[0;36m<cell line: 0>\u001b[0;34m()\u001b[0m\n\u001b[1;32m      8\u001b[0m \u001b[0;31m# immutable\u001b[0m\u001b[0;34m\u001b[0m\u001b[0;34m\u001b[0m\u001b[0m\n\u001b[1;32m      9\u001b[0m \u001b[0mtup\u001b[0m\u001b[0;34m=\u001b[0m \u001b[0;34m(\u001b[0m \u001b[0;36m10\u001b[0m \u001b[0;34m,\u001b[0m \u001b[0;36m20\u001b[0m \u001b[0;34m,\u001b[0m \u001b[0;36m30\u001b[0m \u001b[0;34m,\u001b[0m \u001b[0;36m40\u001b[0m \u001b[0;34m)\u001b[0m\u001b[0;34m\u001b[0m\u001b[0;34m\u001b[0m\u001b[0m\n\u001b[0;32m---> 10\u001b[0;31m \u001b[0mtup\u001b[0m\u001b[0;34m[\u001b[0m\u001b[0;36m1\u001b[0m\u001b[0;34m]\u001b[0m\u001b[0;34m=\u001b[0m \u001b[0;36m100\u001b[0m\u001b[0;34m\u001b[0m\u001b[0;34m\u001b[0m\u001b[0m\n\u001b[0m\u001b[1;32m     11\u001b[0m \u001b[0mprint\u001b[0m\u001b[0;34m(\u001b[0m\u001b[0mtup\u001b[0m\u001b[0;34m)\u001b[0m\u001b[0;34m\u001b[0m\u001b[0;34m\u001b[0m\u001b[0m\n",
            "\u001b[0;31mTypeError\u001b[0m: 'tuple' object does not support item assignment"
          ]
        }
      ]
    },
    {
      "cell_type": "code",
      "source": [
        "# tuple method\n",
        "tup= ( 10 , 20 , 30 , 40 , 10 , 20 , 30 ,10 )\n",
        "\n",
        "print(tup.count(10))\n",
        "print(tup.index(40))"
      ],
      "metadata": {
        "colab": {
          "base_uri": "https://localhost:8080/"
        },
        "id": "4rzjgIWtTMk8",
        "outputId": "c62a9f8a-6220-47d9-d3ca-d1aba470d65d"
      },
      "execution_count": 4,
      "outputs": [
        {
          "output_type": "stream",
          "name": "stdout",
          "text": [
            "3\n",
            "3\n"
          ]
        }
      ]
    },
    {
      "cell_type": "markdown",
      "source": [
        "# Set"
      ],
      "metadata": {
        "id": "7trFTp8nTN0N"
      }
    },
    {
      "cell_type": "code",
      "source": [
        "A = { 1, 2 , 3 }\n",
        "\n",
        "print(type(A) , A )"
      ],
      "metadata": {
        "colab": {
          "base_uri": "https://localhost:8080/"
        },
        "id": "MNqI0yaLTOWy",
        "outputId": "93792527-b511-40a7-843b-df34ab0bd9b3"
      },
      "execution_count": 5,
      "outputs": [
        {
          "output_type": "stream",
          "name": "stdout",
          "text": [
            "<class 'set'> {1, 2, 3}\n"
          ]
        }
      ]
    },
    {
      "cell_type": "code",
      "source": [
        "## empty structures\n",
        "B = []\n",
        "\n",
        "print(type(B))\n",
        "\n",
        "C= ()\n",
        "\n",
        "print(type(C))\n",
        "\n",
        "S = set()\n",
        "\n",
        "print(type(S))"
      ],
      "metadata": {
        "colab": {
          "base_uri": "https://localhost:8080/"
        },
        "id": "S7K7KRwzTPqz",
        "outputId": "b8332032-af3c-4ce0-d9ed-883917c1ec3b"
      },
      "execution_count": 6,
      "outputs": [
        {
          "output_type": "stream",
          "name": "stdout",
          "text": [
            "<class 'list'>\n",
            "<class 'tuple'>\n",
            "<class 'set'>\n"
          ]
        }
      ]
    },
    {
      "cell_type": "code",
      "source": [
        "#accessing\n",
        "\n",
        "S= { 1 ,2 ,3 , 4 ,1 ,2 }\n",
        "\n",
        "if (10 in S):\n",
        "    print(\"3 is present\")\n",
        "else:\n",
        "    print(\"not present\")\n",
        "\n",
        "sum =0\n",
        "\n",
        "for element in S:\n",
        "    sum+= element\n",
        "\n",
        "print(sum)"
      ],
      "metadata": {
        "colab": {
          "base_uri": "https://localhost:8080/"
        },
        "id": "KCKnfketTSl0",
        "outputId": "b2f8bbde-d16e-4e88-ed96-83455aac726c"
      },
      "execution_count": 7,
      "outputs": [
        {
          "output_type": "stream",
          "name": "stdout",
          "text": [
            "not present\n",
            "10\n"
          ]
        }
      ]
    },
    {
      "cell_type": "code",
      "source": [
        "#mutable\n",
        "\n",
        "s= {5, 1 , 2 ,4, 3}\n",
        "\n",
        "s.add(10)\n",
        "s.add(0)\n",
        "\n",
        "print(s)\n",
        "\n",
        "s.pop()\n",
        "s.pop()\n",
        "print(s)\n",
        "\n",
        "s.remove(5)\n",
        "\n",
        "print(s)"
      ],
      "metadata": {
        "colab": {
          "base_uri": "https://localhost:8080/"
        },
        "id": "LZw7LrX9TVYs",
        "outputId": "8ebc485d-676f-4052-fd9c-9ba0322bdd2e"
      },
      "execution_count": 8,
      "outputs": [
        {
          "output_type": "stream",
          "name": "stdout",
          "text": [
            "{0, 1, 2, 3, 4, 5, 10}\n",
            "{2, 3, 4, 5, 10}\n",
            "{2, 3, 4, 10}\n"
          ]
        }
      ]
    },
    {
      "cell_type": "markdown",
      "source": [
        "# Set Mathematical Methods"
      ],
      "metadata": {
        "id": "W0aDBdA6TXDW"
      }
    },
    {
      "cell_type": "code",
      "source": [
        "a = { 1, 2, 3 }\n",
        "b = {1, 2 , 5,6, 4 }\n",
        "\n",
        "print( a.union(b) )\n",
        "\n",
        "print(a.intersection(b))\n",
        "\n",
        "print(a.isdisjoint(b))\n",
        "\n",
        "print(a.issubset(b))"
      ],
      "metadata": {
        "colab": {
          "base_uri": "https://localhost:8080/"
        },
        "id": "7J3WG4haTY3A",
        "outputId": "336ec92b-840b-44ec-c338-1a2a5d9cbcb9"
      },
      "execution_count": 9,
      "outputs": [
        {
          "output_type": "stream",
          "name": "stdout",
          "text": [
            "{1, 2, 3, 4, 5, 6}\n",
            "{1, 2}\n",
            "False\n",
            "False\n"
          ]
        }
      ]
    },
    {
      "cell_type": "markdown",
      "source": [
        "# Dictionaries in Python"
      ],
      "metadata": {
        "id": "WkG6R3o9Tbwr"
      }
    },
    {
      "cell_type": "code",
      "source": [
        "# empty\n",
        "dic = {}\n",
        "print(type(dic))\n",
        "\n",
        "dic ={ \"name\" : \"Phitron\" , \"age\": 20 , \"address\" : \"Dhaka\" , \"numbers\":[10,20,30]}\n",
        "\n",
        "print(type(dic) , dic)"
      ],
      "metadata": {
        "colab": {
          "base_uri": "https://localhost:8080/"
        },
        "id": "EVjaw-WcTgBO",
        "outputId": "f8c818f7-ab6c-492f-de70-71d63c234d54"
      },
      "execution_count": 10,
      "outputs": [
        {
          "output_type": "stream",
          "name": "stdout",
          "text": [
            "<class 'dict'>\n",
            "<class 'dict'> {'name': 'Phitron', 'age': 20, 'address': 'Dhaka', 'numbers': [10, 20, 30]}\n"
          ]
        }
      ]
    },
    {
      "cell_type": "code",
      "source": [
        "# access\n",
        "# dic_name[key]\n",
        "\n",
        "print(dic[\"numbers\"])\n",
        "print( dic.get(\"age\"))\n",
        "\n",
        "\n",
        "dic[\"name\"] = \"Phitron AI/ML\"\n",
        "\n",
        "dic ={ \"name\" : \"Phitron\" , \"age\": 20 , \"address\" : \"Dhaka\" , \"numbers\":[10,20,30],\"age\":30}\n",
        "print(dic)"
      ],
      "metadata": {
        "colab": {
          "base_uri": "https://localhost:8080/"
        },
        "id": "rwB_d8JVTh4-",
        "outputId": "dac9ac48-6d62-4321-f673-4beaf99cadf9"
      },
      "execution_count": 11,
      "outputs": [
        {
          "output_type": "stream",
          "name": "stdout",
          "text": [
            "[10, 20, 30]\n",
            "20\n",
            "{'name': 'Phitron', 'age': 30, 'address': 'Dhaka', 'numbers': [10, 20, 30]}\n"
          ]
        }
      ]
    },
    {
      "cell_type": "code",
      "source": [
        "#printing default values\n",
        "print(dic)\n",
        "\n",
        "print(dic.get(\"math_marks\"))\n",
        "print(dic.get(\"math_marks\",0))"
      ],
      "metadata": {
        "colab": {
          "base_uri": "https://localhost:8080/"
        },
        "id": "Fy0mVOrCTjO4",
        "outputId": "f3fa6f29-4cc2-4e3f-d08b-dad7f5ae6872"
      },
      "execution_count": 12,
      "outputs": [
        {
          "output_type": "stream",
          "name": "stdout",
          "text": [
            "{'name': 'Phitron', 'age': 30, 'address': 'Dhaka', 'numbers': [10, 20, 30]}\n",
            "None\n",
            "0\n"
          ]
        }
      ]
    },
    {
      "cell_type": "code",
      "source": [
        "# adding a value\n",
        "\n",
        "dic ={ \"name\" : \"Phitron\" , \"age\": 20 , \"address\" : \"Dhaka\" , \"numbers\":[10,20,30],\"age\":30}\n",
        "\n",
        "print(dic)\n",
        "dic[\"math_marks\"]= 30\n",
        "print(dic)\n",
        "dic.update({\"english_marks\": 40})\n",
        "\n",
        "print(dic)"
      ],
      "metadata": {
        "colab": {
          "base_uri": "https://localhost:8080/"
        },
        "id": "AjGgpwyuTmHM",
        "outputId": "1b1efa46-f6b2-4927-8ce4-05f15da7903f"
      },
      "execution_count": 13,
      "outputs": [
        {
          "output_type": "stream",
          "name": "stdout",
          "text": [
            "{'name': 'Phitron', 'age': 30, 'address': 'Dhaka', 'numbers': [10, 20, 30]}\n",
            "{'name': 'Phitron', 'age': 30, 'address': 'Dhaka', 'numbers': [10, 20, 30], 'math_marks': 30}\n",
            "{'name': 'Phitron', 'age': 30, 'address': 'Dhaka', 'numbers': [10, 20, 30], 'math_marks': 30, 'english_marks': 40}\n"
          ]
        }
      ]
    },
    {
      "cell_type": "code",
      "source": [
        "# deleting\n",
        "\n",
        "del dic[\"math_marks\"]\n",
        "print(dic)"
      ],
      "metadata": {
        "colab": {
          "base_uri": "https://localhost:8080/"
        },
        "id": "rBrFyKIZTn6G",
        "outputId": "f14e56e2-c59a-4b1c-94f5-62de940e7c48"
      },
      "execution_count": 14,
      "outputs": [
        {
          "output_type": "stream",
          "name": "stdout",
          "text": [
            "{'name': 'Phitron', 'age': 30, 'address': 'Dhaka', 'numbers': [10, 20, 30], 'english_marks': 40}\n"
          ]
        }
      ]
    },
    {
      "cell_type": "code",
      "source": [
        "dic_2=dic.copy()\n",
        "print(dic_2)"
      ],
      "metadata": {
        "colab": {
          "base_uri": "https://localhost:8080/"
        },
        "id": "Nr7NXAKyTpN_",
        "outputId": "94c6362e-a78c-4a27-8faa-af5f5251d44a"
      },
      "execution_count": 15,
      "outputs": [
        {
          "output_type": "stream",
          "name": "stdout",
          "text": [
            "{'name': 'Phitron', 'age': 30, 'address': 'Dhaka', 'numbers': [10, 20, 30], 'english_marks': 40}\n"
          ]
        }
      ]
    },
    {
      "cell_type": "code",
      "source": [
        "# testing\n",
        "\n",
        "dic_3 = { {\"name\" : \"adil\" , \"age\" :20} : 20 }\n",
        "print(dic_3)"
      ],
      "metadata": {
        "colab": {
          "base_uri": "https://localhost:8080/",
          "height": 193
        },
        "id": "99JrLuPDTqUD",
        "outputId": "2e6b66d7-8030-4fe7-da56-926120ce2711"
      },
      "execution_count": 16,
      "outputs": [
        {
          "output_type": "error",
          "ename": "TypeError",
          "evalue": "unhashable type: 'dict'",
          "traceback": [
            "\u001b[0;31m---------------------------------------------------------------------------\u001b[0m",
            "\u001b[0;31mTypeError\u001b[0m                                 Traceback (most recent call last)",
            "\u001b[0;32m/tmp/ipython-input-4116055021.py\u001b[0m in \u001b[0;36m<cell line: 0>\u001b[0;34m()\u001b[0m\n\u001b[1;32m      1\u001b[0m \u001b[0;31m# testing\u001b[0m\u001b[0;34m\u001b[0m\u001b[0;34m\u001b[0m\u001b[0m\n\u001b[1;32m      2\u001b[0m \u001b[0;34m\u001b[0m\u001b[0m\n\u001b[0;32m----> 3\u001b[0;31m \u001b[0mdic_3\u001b[0m \u001b[0;34m=\u001b[0m \u001b[0;34m{\u001b[0m \u001b[0;34m{\u001b[0m\u001b[0;34m\"name\"\u001b[0m \u001b[0;34m:\u001b[0m \u001b[0;34m\"adil\"\u001b[0m \u001b[0;34m,\u001b[0m \u001b[0;34m\"age\"\u001b[0m \u001b[0;34m:\u001b[0m\u001b[0;36m20\u001b[0m\u001b[0;34m}\u001b[0m \u001b[0;34m:\u001b[0m \u001b[0;36m20\u001b[0m \u001b[0;34m}\u001b[0m\u001b[0;34m\u001b[0m\u001b[0;34m\u001b[0m\u001b[0m\n\u001b[0m\u001b[1;32m      4\u001b[0m \u001b[0mprint\u001b[0m\u001b[0;34m(\u001b[0m\u001b[0mdic_3\u001b[0m\u001b[0;34m)\u001b[0m\u001b[0;34m\u001b[0m\u001b[0;34m\u001b[0m\u001b[0m\n",
            "\u001b[0;31mTypeError\u001b[0m: unhashable type: 'dict'"
          ]
        }
      ]
    },
    {
      "cell_type": "markdown",
      "source": [
        "# Iterating over Dictionary"
      ],
      "metadata": {
        "id": "0-LfrX8cTsa2"
      }
    },
    {
      "cell_type": "code",
      "source": [
        "dic ={ \"name\" : \"Phitron\" , \"age\": 20 , \"address\" : \"Dhaka\" , \"numbers\":[10,20,30],\"age\":30}\n",
        "\n",
        "keys = dic.keys()\n",
        "\n",
        "print(keys)\n",
        "\n",
        "dic[\"math_numebers\"] = 30\n",
        "\n",
        "print(keys)\n",
        "\n",
        "values = dic.values()\n",
        "\n",
        "print(values)\n",
        "\n",
        "dic[\"math_numebers\"] = 40\n",
        "print(values)\n",
        "\n",
        "items = dic.items()\n",
        "\n",
        "print(items)"
      ],
      "metadata": {
        "colab": {
          "base_uri": "https://localhost:8080/"
        },
        "id": "FqelQa8KTtEr",
        "outputId": "08a37c39-4750-4b68-d67f-8afa8e6fdb6e"
      },
      "execution_count": 17,
      "outputs": [
        {
          "output_type": "stream",
          "name": "stdout",
          "text": [
            "dict_keys(['name', 'age', 'address', 'numbers'])\n",
            "dict_keys(['name', 'age', 'address', 'numbers', 'math_numebers'])\n",
            "dict_values(['Phitron', 30, 'Dhaka', [10, 20, 30], 30])\n",
            "dict_values(['Phitron', 30, 'Dhaka', [10, 20, 30], 40])\n",
            "dict_items([('name', 'Phitron'), ('age', 30), ('address', 'Dhaka'), ('numbers', [10, 20, 30]), ('math_numebers', 40)])\n"
          ]
        }
      ]
    },
    {
      "cell_type": "code",
      "source": [
        "# iteration\n",
        "for key,value in dic.items():\n",
        "    print(key,value)"
      ],
      "metadata": {
        "colab": {
          "base_uri": "https://localhost:8080/"
        },
        "id": "OZfZuWrmTvoK",
        "outputId": "052a3f28-f31e-45a0-8df3-380b7c1a1e72"
      },
      "execution_count": 18,
      "outputs": [
        {
          "output_type": "stream",
          "name": "stdout",
          "text": [
            "name Phitron\n",
            "age 30\n",
            "address Dhaka\n",
            "numbers [10, 20, 30]\n",
            "math_numebers 40\n"
          ]
        }
      ]
    },
    {
      "cell_type": "markdown",
      "source": [
        "# Dictionary Comprehension"
      ],
      "metadata": {
        "id": "w19izRlNTwy4"
      }
    },
    {
      "cell_type": "code",
      "source": [
        "square = {x:x**2  for x in range(1,11) if x%2==0}\n",
        "print(square)"
      ],
      "metadata": {
        "colab": {
          "base_uri": "https://localhost:8080/"
        },
        "id": "FYI81KEUTyxp",
        "outputId": "524e79fb-1c74-429a-cc22-64d5b875ad42"
      },
      "execution_count": 20,
      "outputs": [
        {
          "output_type": "stream",
          "name": "stdout",
          "text": [
            "{2: 4, 4: 16, 6: 36, 8: 64, 10: 100}\n"
          ]
        }
      ]
    },
    {
      "cell_type": "code",
      "source": [
        "Co_ordinates = [(10,10.5),(20.5,192) , ( 101,102) ]\n",
        "Locations =[\"dhaka\" , \"chattogram\" , \"sylhet\"]\n",
        "\n",
        "exact_location = {co_or : loc for co_or, loc in zip(Co_ordinates,Locations)}\n",
        "\n",
        "print(exact_location)"
      ],
      "metadata": {
        "colab": {
          "base_uri": "https://localhost:8080/"
        },
        "id": "twx0hWzYT0gl",
        "outputId": "08277b65-b1c4-4092-eaa9-0758d87dd025"
      },
      "execution_count": 22,
      "outputs": [
        {
          "output_type": "stream",
          "name": "stdout",
          "text": [
            "{(10, 10.5): 'dhaka', (20.5, 192): 'chattogram', (101, 102): 'sylhet'}\n"
          ]
        }
      ]
    },
    {
      "cell_type": "markdown",
      "source": [
        "# Problem Solving with In Built Structures\n",
        "**1. Given a list of numbers, make a list with unique values.**"
      ],
      "metadata": {
        "id": "Q0HYM4A7T36z"
      }
    },
    {
      "cell_type": "code",
      "source": [
        "lst = [10 , 20 , 10 , 30 , 30 , 50 , 30 , 10 , 20 , 10 , 10 ]\n",
        "\n",
        "unique_values = set(lst) ## conversion\n",
        "\n",
        "lst = list(unique_values)\n",
        "\n",
        "print(lst)"
      ],
      "metadata": {
        "colab": {
          "base_uri": "https://localhost:8080/"
        },
        "id": "kAvGSLD7T7iI",
        "outputId": "e9672427-498c-4ef7-f8be-1a6080740710"
      },
      "execution_count": 23,
      "outputs": [
        {
          "output_type": "stream",
          "name": "stdout",
          "text": [
            "[10, 20, 50, 30]\n"
          ]
        }
      ]
    },
    {
      "cell_type": "markdown",
      "source": [
        "**2. Given a string , print the frequency of the words**"
      ],
      "metadata": {
        "id": "Sgpfs00lT_RB"
      }
    },
    {
      "cell_type": "code",
      "source": [
        "string = \"\"\"data science machine learning data analysis machine\n",
        "learning statistics data models data training data validation features\n",
        "features labels preprocessing data augmentation models data optimization\n",
        "gradient descent neural networks data tensors matrices visualization\n",
        "exploration pandas numpy matplotlib seaborn scikitlearn tensorflow pytorch\n",
        "deployment inference production monitoring reproducibility experiments results\n",
        "metrics accuracy precision recall f1 cross validation data machine\n",
        "\"\"\"\n",
        "\n",
        "words = string.split()\n",
        "\n",
        "count = {}\n",
        "\n",
        "\n",
        "for word in words:\n",
        "    count[word]= count.get(word,0) +1\n",
        "\n",
        "for k,v in count.items():\n",
        "    print(f\"count of {k} is {v}\")"
      ],
      "metadata": {
        "colab": {
          "base_uri": "https://localhost:8080/"
        },
        "id": "vTO9K_EvUM0t",
        "outputId": "8b5b2ada-5b5d-4509-b3f4-02a7923def4e"
      },
      "execution_count": 24,
      "outputs": [
        {
          "output_type": "stream",
          "name": "stdout",
          "text": [
            "count of data is 9\n",
            "count of science is 1\n",
            "count of machine is 3\n",
            "count of learning is 2\n",
            "count of analysis is 1\n",
            "count of statistics is 1\n",
            "count of models is 2\n",
            "count of training is 1\n",
            "count of validation is 2\n",
            "count of features is 2\n",
            "count of labels is 1\n",
            "count of preprocessing is 1\n",
            "count of augmentation is 1\n",
            "count of optimization is 1\n",
            "count of gradient is 1\n",
            "count of descent is 1\n",
            "count of neural is 1\n",
            "count of networks is 1\n",
            "count of tensors is 1\n",
            "count of matrices is 1\n",
            "count of visualization is 1\n",
            "count of exploration is 1\n",
            "count of pandas is 1\n",
            "count of numpy is 1\n",
            "count of matplotlib is 1\n",
            "count of seaborn is 1\n",
            "count of scikitlearn is 1\n",
            "count of tensorflow is 1\n",
            "count of pytorch is 1\n",
            "count of deployment is 1\n",
            "count of inference is 1\n",
            "count of production is 1\n",
            "count of monitoring is 1\n",
            "count of reproducibility is 1\n",
            "count of experiments is 1\n",
            "count of results is 1\n",
            "count of metrics is 1\n",
            "count of accuracy is 1\n",
            "count of precision is 1\n",
            "count of recall is 1\n",
            "count of f1 is 1\n",
            "count of cross is 1\n"
          ]
        }
      ]
    }
  ]
}