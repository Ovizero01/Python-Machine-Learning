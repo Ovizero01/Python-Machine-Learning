{
  "nbformat": 4,
  "nbformat_minor": 0,
  "metadata": {
    "colab": {
      "provenance": [],
      "authorship_tag": "ABX9TyM13qZnRvp7dIGd0lkqAXme",
      "include_colab_link": true
    },
    "kernelspec": {
      "name": "python3",
      "display_name": "Python 3"
    },
    "language_info": {
      "name": "python"
    }
  },
  "cells": [
    {
      "cell_type": "markdown",
      "metadata": {
        "id": "view-in-github",
        "colab_type": "text"
      },
      "source": [
        "<a href=\"https://colab.research.google.com/github/Ovizero01/Python-Machine-Learning/blob/main/006_Functions.ipynb\" target=\"_parent\"><img src=\"https://colab.research.google.com/assets/colab-badge.svg\" alt=\"Open In Colab\"/></a>"
      ]
    },
    {
      "cell_type": "markdown",
      "source": [
        "# Functions"
      ],
      "metadata": {
        "id": "E3kwtlyXl7Q0"
      }
    },
    {
      "cell_type": "code",
      "execution_count": 1,
      "metadata": {
        "colab": {
          "base_uri": "https://localhost:8080/"
        },
        "id": "lltETimyl15T",
        "outputId": "0edb40d5-00fa-4f68-a9ad-1c66124088a2"
      },
      "outputs": [
        {
          "output_type": "stream",
          "name": "stdout",
          "text": [
            "hello\n"
          ]
        }
      ],
      "source": [
        "def greet():\n",
        "    print(\"hello\")\n",
        "greet()"
      ]
    },
    {
      "cell_type": "markdown",
      "source": [
        "# Function parameters(Input)"
      ],
      "metadata": {
        "id": "KpwWCABgmBle"
      }
    },
    {
      "cell_type": "code",
      "source": [
        "def greet(user = \"guest\"):\n",
        "    print(f\"hello {user}\")\n",
        "greet(\"Ovi\")"
      ],
      "metadata": {
        "colab": {
          "base_uri": "https://localhost:8080/"
        },
        "id": "bEI1jMGBmFmU",
        "outputId": "12bc0ac0-ed13-4752-f170-6ddc821ad69e"
      },
      "execution_count": 2,
      "outputs": [
        {
          "output_type": "stream",
          "name": "stdout",
          "text": [
            "hello Ovi\n"
          ]
        }
      ]
    },
    {
      "cell_type": "code",
      "source": [
        "def square_addition(a,b,c):\n",
        "    print(f\"{a} {b} {c}\")\n",
        "    a=a**2\n",
        "    b= b**2\n",
        "    return a+b+c\n",
        "#positional argument\n",
        "ans = square_addition(10,20,30) + 10\n",
        "print(ans)\n",
        "\n",
        "#keyword argument\n",
        "ans = square_addition(b=10,c=20,a=30) + 10\n",
        "print(ans)"
      ],
      "metadata": {
        "colab": {
          "base_uri": "https://localhost:8080/"
        },
        "id": "F8n0_U0JmJ1l",
        "outputId": "fa33a827-c3dc-482a-db01-c1c95578e902"
      },
      "execution_count": 3,
      "outputs": [
        {
          "output_type": "stream",
          "name": "stdout",
          "text": [
            "10 20 30\n",
            "540\n",
            "30 10 20\n",
            "1030\n"
          ]
        }
      ]
    },
    {
      "cell_type": "code",
      "source": [
        "def square_addition(*args):\n",
        "    summation =0\n",
        "    for i in args:\n",
        "        i = i**2\n",
        "        summation+=i\n",
        "    return summation\n",
        "\n",
        "ans = square_addition(10,20,30,40,50)\n",
        "print(ans)"
      ],
      "metadata": {
        "colab": {
          "base_uri": "https://localhost:8080/"
        },
        "id": "MdgWP2S2mNqL",
        "outputId": "4c941989-f6cc-4e3f-8829-c4479ee3a5e7"
      },
      "execution_count": 5,
      "outputs": [
        {
          "output_type": "stream",
          "name": "stdout",
          "text": [
            "5500\n"
          ]
        }
      ]
    },
    {
      "cell_type": "code",
      "source": [
        "def student(**kwargs):\n",
        "    for key,val in kwargs.items():\n",
        "        print(f\"{key} : {val}\")\n",
        "\n",
        "student(name = \"Ovi\" , cls =10 , roll=30 , marks = 30.5)"
      ],
      "metadata": {
        "colab": {
          "base_uri": "https://localhost:8080/"
        },
        "id": "55MSFlrxmSgI",
        "outputId": "78f58eff-1392-4ef9-ac6d-86bf096a9ab6"
      },
      "execution_count": 6,
      "outputs": [
        {
          "output_type": "stream",
          "name": "stdout",
          "text": [
            "name : Ovi\n",
            "cls : 10\n",
            "roll : 30\n",
            "marks : 30.5\n"
          ]
        }
      ]
    },
    {
      "cell_type": "markdown",
      "source": [
        "# Return"
      ],
      "metadata": {
        "id": "NGJ1-okKmYDi"
      }
    },
    {
      "cell_type": "code",
      "source": [
        "def give_prediction():\n",
        "    return 10\n",
        "\n",
        "type(give_prediction())"
      ],
      "metadata": {
        "colab": {
          "base_uri": "https://localhost:8080/"
        },
        "id": "xn4HeADmmXyY",
        "outputId": "87ade005-e0eb-490c-b7ab-23a2d3d923c8"
      },
      "execution_count": 7,
      "outputs": [
        {
          "output_type": "execute_result",
          "data": {
            "text/plain": [
              "int"
            ]
          },
          "metadata": {},
          "execution_count": 7
        }
      ]
    },
    {
      "cell_type": "code",
      "source": [
        "def give_prediction():\n",
        "    return 10.5\n",
        "\n",
        "type(give_prediction())"
      ],
      "metadata": {
        "colab": {
          "base_uri": "https://localhost:8080/"
        },
        "id": "F7q2k6oXmbpk",
        "outputId": "025a178d-2bbe-49fc-8776-02bb07e558b5"
      },
      "execution_count": 8,
      "outputs": [
        {
          "output_type": "execute_result",
          "data": {
            "text/plain": [
              "float"
            ]
          },
          "metadata": {},
          "execution_count": 8
        }
      ]
    },
    {
      "cell_type": "code",
      "source": [
        "def give_prediction():\n",
        "    return \"name\"\n",
        "\n",
        "type(give_prediction())"
      ],
      "metadata": {
        "colab": {
          "base_uri": "https://localhost:8080/"
        },
        "id": "-SSmvlFUmeGb",
        "outputId": "ea94be90-c8e9-4d0e-d986-b0b904a91f67"
      },
      "execution_count": 9,
      "outputs": [
        {
          "output_type": "execute_result",
          "data": {
            "text/plain": [
              "str"
            ]
          },
          "metadata": {},
          "execution_count": 9
        }
      ]
    },
    {
      "cell_type": "code",
      "source": [
        "def give_prediction(a,b):\n",
        "\n",
        "    return a,b\n",
        "\n",
        "type(give_prediction(10,30))\n",
        "\n",
        "print(give_prediction(10,30))\n",
        "\n",
        "## unpacking\n",
        "\n",
        "x , y = give_prediction(10,30)\n",
        "\n",
        "print(x,y)"
      ],
      "metadata": {
        "colab": {
          "base_uri": "https://localhost:8080/"
        },
        "id": "lMxG2_Z4mfAf",
        "outputId": "fecb7e6f-f37b-44b2-e9c5-6588f0d77191"
      },
      "execution_count": 10,
      "outputs": [
        {
          "output_type": "stream",
          "name": "stdout",
          "text": [
            "(10, 30)\n",
            "10 30\n"
          ]
        }
      ]
    },
    {
      "cell_type": "code",
      "source": [
        "def give_prediction():\n",
        "\n",
        "    a= [10,20,30]\n",
        "    b= [20,30,40]\n",
        "    return a,b\n",
        "\n",
        "type(give_prediction())\n",
        "\n",
        "## unpacking\n",
        "x , y = give_prediction()\n",
        "\n",
        "print(x)\n",
        "print(y)"
      ],
      "metadata": {
        "colab": {
          "base_uri": "https://localhost:8080/"
        },
        "id": "t1Qm4F6ymj0y",
        "outputId": "5d9fe34d-5aed-40a2-f7c1-a9853b319009"
      },
      "execution_count": 11,
      "outputs": [
        {
          "output_type": "stream",
          "name": "stdout",
          "text": [
            "[10, 20, 30]\n",
            "[20, 30, 40]\n"
          ]
        }
      ]
    },
    {
      "cell_type": "code",
      "source": [
        "def give_prediction():\n",
        "\n",
        "    a= {10,20,30}\n",
        "    b = [100,200,300]\n",
        "    return a,b\n",
        "\n",
        "x = give_prediction()\n",
        "\n",
        "print(type(x))\n",
        "\n",
        "for item in x:\n",
        "    print(item)"
      ],
      "metadata": {
        "colab": {
          "base_uri": "https://localhost:8080/"
        },
        "id": "TrP4SBZDmmEC",
        "outputId": "2f084a6d-6ef1-4656-e00a-056b6bcab14a"
      },
      "execution_count": 12,
      "outputs": [
        {
          "output_type": "stream",
          "name": "stdout",
          "text": [
            "<class 'tuple'>\n",
            "{10, 20, 30}\n",
            "[100, 200, 300]\n"
          ]
        }
      ]
    },
    {
      "cell_type": "code",
      "source": [
        "def give_prediction():\n",
        "    return { \"name\" : \"adil\" , \"addr\" : \"Ctg\"},{ \"name\" : \"abrar\" , \"addr\" : \"dhaka\"}\n",
        "\n",
        "\n",
        "x,y = give_prediction()\n",
        "\n",
        "print(type(x))\n",
        "\n",
        "\n",
        "for item in x.items():\n",
        "    print(item)"
      ],
      "metadata": {
        "colab": {
          "base_uri": "https://localhost:8080/"
        },
        "id": "eCtINa9amqBh",
        "outputId": "d20534ad-476b-4922-d295-b3cf5335d9fb"
      },
      "execution_count": 15,
      "outputs": [
        {
          "output_type": "stream",
          "name": "stdout",
          "text": [
            "<class 'dict'>\n",
            "('name', 'adil')\n",
            "('addr', 'Ctg')\n"
          ]
        }
      ]
    },
    {
      "cell_type": "markdown",
      "source": [
        "# Iterator"
      ],
      "metadata": {
        "id": "_AYHvFPNm6zc"
      }
    },
    {
      "cell_type": "code",
      "source": [
        "s = {10 , 20 , 30 , 40 , 50 }\n",
        "\n",
        "s_iter = iter(s)\n",
        "print(next(s_iter))\n",
        "print(next(s_iter))\n",
        "print(next(s_iter))\n",
        "print(next(s_iter))\n",
        "print(next(s_iter))\n",
        "\n",
        "for i in s:\n",
        "    print(i)"
      ],
      "metadata": {
        "colab": {
          "base_uri": "https://localhost:8080/"
        },
        "id": "Y_efjRpCm50Z",
        "outputId": "679953b0-f4bf-4c91-8eca-97c9b418048c"
      },
      "execution_count": 16,
      "outputs": [
        {
          "output_type": "stream",
          "name": "stdout",
          "text": [
            "50\n",
            "20\n",
            "40\n",
            "10\n",
            "30\n",
            "50\n",
            "20\n",
            "40\n",
            "10\n",
            "30\n"
          ]
        }
      ]
    },
    {
      "cell_type": "markdown",
      "source": [
        "# Generator"
      ],
      "metadata": {
        "id": "65lxDFCsnA0F"
      }
    },
    {
      "cell_type": "code",
      "source": [
        "lst = [ x for x in range(500) ] # dataset\n",
        "\n",
        "def data_loader(chunk_size,lst):\n",
        "    for i in range(0,len(lst),chunk_size):\n",
        "        yield lst[i:i+chunk_size]\n",
        "\n",
        "\n",
        "x = data_loader(5,lst)\n",
        "\n",
        "print(next(x))\n",
        "print(next(x))"
      ],
      "metadata": {
        "colab": {
          "base_uri": "https://localhost:8080/"
        },
        "id": "Vkg-sJKInAAs",
        "outputId": "2908585d-bb69-4d44-e649-b4dfabf67f95"
      },
      "execution_count": 17,
      "outputs": [
        {
          "output_type": "stream",
          "name": "stdout",
          "text": [
            "[0, 1, 2, 3, 4]\n",
            "[5, 6, 7, 8, 9]\n"
          ]
        }
      ]
    },
    {
      "cell_type": "markdown",
      "source": [
        "# Lambda Function"
      ],
      "metadata": {
        "id": "uONDE_iQnFmH"
      }
    },
    {
      "cell_type": "code",
      "source": [
        "def square_addition(x,y):\n",
        "    return x**2 + y**2\n",
        "\n",
        "\n",
        "sq_add = lambda x,y : x**2 + y**2\n",
        "\n",
        "print( sq_add(2,3))"
      ],
      "metadata": {
        "colab": {
          "base_uri": "https://localhost:8080/"
        },
        "id": "gyCZAcBtnLI6",
        "outputId": "2950e10b-0f89-4322-d3be-58280f86be35"
      },
      "execution_count": 18,
      "outputs": [
        {
          "output_type": "stream",
          "name": "stdout",
          "text": [
            "13\n"
          ]
        }
      ]
    },
    {
      "cell_type": "markdown",
      "source": [
        "# Map"
      ],
      "metadata": {
        "id": "IA-nvpINnMUY"
      }
    },
    {
      "cell_type": "code",
      "source": [
        "lst = [ 1 ,2 ,3 ,4 ,5 ,6 ]\n",
        "\n",
        "def square(x):\n",
        "    return x**2\n",
        "\n",
        "lst = list(map(square ,lst))\n",
        "\n",
        "print(lst)"
      ],
      "metadata": {
        "colab": {
          "base_uri": "https://localhost:8080/"
        },
        "id": "dgIL0jFdnNqL",
        "outputId": "99034619-2dd5-4c0b-a88e-0e8905ef5a5a"
      },
      "execution_count": 19,
      "outputs": [
        {
          "output_type": "stream",
          "name": "stdout",
          "text": [
            "[1, 4, 9, 16, 25, 36]\n"
          ]
        }
      ]
    },
    {
      "cell_type": "code",
      "source": [
        "# string\n",
        "\n",
        "string = \"hello world, welcome to the age of AI\"\n",
        "string1 = list(map(str.upper , string))\n",
        "print(string1)\n",
        "string1 = \" \".join(string1)\n",
        "print(string1)"
      ],
      "metadata": {
        "colab": {
          "base_uri": "https://localhost:8080/"
        },
        "id": "vFpvceTXnSNy",
        "outputId": "fb261ff6-3861-4c99-ef8d-89f391509d78"
      },
      "execution_count": 20,
      "outputs": [
        {
          "output_type": "stream",
          "name": "stdout",
          "text": [
            "['H', 'E', 'L', 'L', 'O', ' ', 'W', 'O', 'R', 'L', 'D', ',', ' ', 'W', 'E', 'L', 'C', 'O', 'M', 'E', ' ', 'T', 'O', ' ', 'T', 'H', 'E', ' ', 'A', 'G', 'E', ' ', 'O', 'F', ' ', 'A', 'I']\n",
            "H E L L O   W O R L D ,   W E L C O M E   T O   T H E   A G E   O F   A I\n"
          ]
        }
      ]
    },
    {
      "cell_type": "code",
      "source": [
        "# map with lambda function\n",
        "lst = [ 1 ,2 ,3 ,4 ,5 ,6 ]\n",
        "\n",
        "lst = list(map(lambda x : x**2,lst))\n",
        "\n",
        "print(lst)"
      ],
      "metadata": {
        "colab": {
          "base_uri": "https://localhost:8080/"
        },
        "id": "-4XFAeGfnT8E",
        "outputId": "4f9dc44c-b69c-4bf2-9fb7-cf1a541a9f69"
      },
      "execution_count": 21,
      "outputs": [
        {
          "output_type": "stream",
          "name": "stdout",
          "text": [
            "[1, 4, 9, 16, 25, 36]\n"
          ]
        }
      ]
    },
    {
      "cell_type": "markdown",
      "source": [
        "# Filter"
      ],
      "metadata": {
        "id": "paysCjSXnV_h"
      }
    },
    {
      "cell_type": "code",
      "source": [
        "numbers = [x for x in range(100)]\n",
        "\n",
        "# even\n",
        "\n",
        "even = list(filter( lambda x : x % 2 ==0,numbers))\n",
        "\n",
        "#print(even)\n",
        "\n",
        "fifty_upper = list(filter( lambda x : x >50,numbers))\n",
        "\n",
        "print(fifty_upper)"
      ],
      "metadata": {
        "colab": {
          "base_uri": "https://localhost:8080/"
        },
        "id": "Wf5yhshMnZ0n",
        "outputId": "d9327f28-a334-4359-cbbf-ed2c9b79f91a"
      },
      "execution_count": 22,
      "outputs": [
        {
          "output_type": "stream",
          "name": "stdout",
          "text": [
            "[51, 52, 53, 54, 55, 56, 57, 58, 59, 60, 61, 62, 63, 64, 65, 66, 67, 68, 69, 70, 71, 72, 73, 74, 75, 76, 77, 78, 79, 80, 81, 82, 83, 84, 85, 86, 87, 88, 89, 90, 91, 92, 93, 94, 95, 96, 97, 98, 99]\n"
          ]
        }
      ]
    },
    {
      "cell_type": "code",
      "source": [
        "data = [0, 1, '',None, 'Hello', [], [1, 2], None, True, False, None]\n",
        "\n",
        "cleaned_data = list(filter(None, data))\n",
        "\n",
        "print(cleaned_data)"
      ],
      "metadata": {
        "colab": {
          "base_uri": "https://localhost:8080/"
        },
        "id": "UUzT1kHkngmW",
        "outputId": "cb31a033-ea85-490d-f730-e9a15fbaf724"
      },
      "execution_count": 23,
      "outputs": [
        {
          "output_type": "stream",
          "name": "stdout",
          "text": [
            "[1, 'Hello', [1, 2], True]\n"
          ]
        }
      ]
    },
    {
      "cell_type": "code",
      "source": [
        "# string\n",
        "\n",
        "vowel_ = list(filter( lambda x : x in \"AEIOU\" , string1))\n",
        "\n",
        "print(vowel_)"
      ],
      "metadata": {
        "colab": {
          "base_uri": "https://localhost:8080/"
        },
        "id": "rRKz-L63njJe",
        "outputId": "337ab482-fc67-4034-873c-10ddb659bc57"
      },
      "execution_count": 24,
      "outputs": [
        {
          "output_type": "stream",
          "name": "stdout",
          "text": [
            "['E', 'O', 'O', 'E', 'O', 'E', 'O', 'E', 'A', 'E', 'O', 'A', 'I']\n"
          ]
        }
      ]
    },
    {
      "cell_type": "code",
      "source": [
        "fruits = [ 'aaa' , 'bb' , 'cccc' , 'ddddd' ]\n",
        "\n",
        "filtering = list(filter(lambda x: len(x)>2 , fruits))\n",
        "\n",
        "print(filtering)"
      ],
      "metadata": {
        "colab": {
          "base_uri": "https://localhost:8080/"
        },
        "id": "BHeBOY4gnsYe",
        "outputId": "e1c917ab-918c-48a3-cd9e-3ba44be96486"
      },
      "execution_count": 25,
      "outputs": [
        {
          "output_type": "stream",
          "name": "stdout",
          "text": [
            "['aaa', 'cccc', 'ddddd']\n"
          ]
        }
      ]
    },
    {
      "cell_type": "markdown",
      "source": [
        "# Reduce"
      ],
      "metadata": {
        "id": "Vv5xV9Ggnuz6"
      }
    },
    {
      "cell_type": "code",
      "source": [
        "from functools import reduce"
      ],
      "metadata": {
        "id": "kyTq4fLsnxDA"
      },
      "execution_count": 26,
      "outputs": []
    },
    {
      "cell_type": "code",
      "source": [
        "lst = [ 1 ,2 ,3 ,4 ,5 ,6 ]\n",
        "\n",
        "summation = reduce(lambda x,y : x+y , lst)\n",
        "\n",
        "print(summation)"
      ],
      "metadata": {
        "colab": {
          "base_uri": "https://localhost:8080/"
        },
        "id": "gcLo1ANqnxq0",
        "outputId": "bb3cc979-dbf4-4fb1-babd-916614623653"
      },
      "execution_count": 27,
      "outputs": [
        {
          "output_type": "stream",
          "name": "stdout",
          "text": [
            "21\n"
          ]
        }
      ]
    },
    {
      "cell_type": "code",
      "source": [
        "lst = [ 1 ,2 ,10,4 ,5 ,6 ]\n",
        "\n",
        "max_value = reduce( lambda x , y :x if x > y else y ,lst)\n",
        "\n",
        "print(max_value)"
      ],
      "metadata": {
        "colab": {
          "base_uri": "https://localhost:8080/"
        },
        "id": "X419Zr9Mnz4P",
        "outputId": "83c91f2c-31bd-4b5a-b0e3-39a5fc961823"
      },
      "execution_count": 28,
      "outputs": [
        {
          "output_type": "stream",
          "name": "stdout",
          "text": [
            "10\n"
          ]
        }
      ]
    },
    {
      "cell_type": "code",
      "source": [
        "lst = [ \"hello\", \"world\" , \"welcome\" ,\"to\", \"programming\"]\n",
        "print(lst)"
      ],
      "metadata": {
        "colab": {
          "base_uri": "https://localhost:8080/"
        },
        "id": "Csfk-mFbn1KR",
        "outputId": "294e2f00-3a13-45d2-e61e-a8420e2e11cb"
      },
      "execution_count": 29,
      "outputs": [
        {
          "output_type": "stream",
          "name": "stdout",
          "text": [
            "['hello', 'world', 'welcome', 'to', 'programming']\n"
          ]
        }
      ]
    },
    {
      "cell_type": "code",
      "source": [
        "string = reduce(lambda x,y : x+ \" \" + y ,lst)\n",
        "print(string)"
      ],
      "metadata": {
        "colab": {
          "base_uri": "https://localhost:8080/"
        },
        "id": "5DRK5iu0n2De",
        "outputId": "b35028c7-2a80-4b4d-895f-af6e685e6bd8"
      },
      "execution_count": 30,
      "outputs": [
        {
          "output_type": "stream",
          "name": "stdout",
          "text": [
            "hello world welcome to programming\n"
          ]
        }
      ]
    }
  ]
}