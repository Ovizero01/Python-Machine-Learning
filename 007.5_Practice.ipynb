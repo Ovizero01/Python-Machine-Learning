{
  "nbformat": 4,
  "nbformat_minor": 0,
  "metadata": {
    "colab": {
      "provenance": [],
      "authorship_tag": "ABX9TyPZAHTt7UTWmZdYrsRgLTbq",
      "include_colab_link": true
    },
    "kernelspec": {
      "name": "python3",
      "display_name": "Python 3"
    },
    "language_info": {
      "name": "python"
    }
  },
  "cells": [
    {
      "cell_type": "markdown",
      "metadata": {
        "id": "view-in-github",
        "colab_type": "text"
      },
      "source": [
        "<a href=\"https://colab.research.google.com/github/Ovizero01/Python-Machine-Learning/blob/main/007_5_Practice.ipynb\" target=\"_parent\"><img src=\"https://colab.research.google.com/assets/colab-badge.svg\" alt=\"Open In Colab\"/></a>"
      ]
    },
    {
      "cell_type": "markdown",
      "source": [
        "## Problem 1: Common Friends (Set Operations)\n",
        "\n"
      ],
      "metadata": {
        "id": "CVG4ilUCfSDT"
      }
    },
    {
      "cell_type": "code",
      "source": [
        "setA = set(x for x in input().split())\n",
        "setB = set(x for x in input().split())\n",
        "\n",
        "print(f\"Mutual Friends: {setA.intersection(setB)}\")\n",
        "print(\"Unique to A:\", setA - setB)\n",
        "print(\"Unique to B:\", setB - setA)\n",
        "print(f\"Total Unique Friends: {len(setA.union(setB))}\")"
      ],
      "metadata": {
        "id": "HbdOdssRgL43",
        "colab": {
          "base_uri": "https://localhost:8080/"
        },
        "outputId": "3d10a2c8-b3c3-4f4e-8d29-b0f57d037cb0"
      },
      "execution_count": 13,
      "outputs": [
        {
          "output_type": "stream",
          "name": "stdout",
          "text": [
            "Rahim Karim Sakib Jamal\n",
            "Sakib Jamal Rafiq Nadim\n",
            "Mutual Friends: {'Sakib', 'Jamal'}\n",
            "Unique to A: {'Rahim', 'Karim'}\n",
            "Unique to B: {'Rafiq', 'Nadim'}\n",
            "Total Unique Friends: 6\n"
          ]
        }
      ]
    },
    {
      "cell_type": "markdown",
      "source": [
        "# Problem 2: Sort Students by Marks (Tuple + Dictionary)"
      ],
      "metadata": {
        "id": "o7jaKWuRjJjG"
      }
    },
    {
      "cell_type": "code",
      "source": [
        "students = []\n",
        "n = int(input(\"Enter the number of students: \"))\n",
        "for i in range(n):\n",
        "    name, marks = input(f\"Enter name and marks of student {i+1}: \").split()\n",
        "    students.append((name, marks))\n",
        "\n",
        "students.sort(key = lambda x : x[1], reverse = True)\n",
        "top3 = students[:3]\n",
        "\n",
        "for name, marks in top3:\n",
        "  print(f\"Name: {name} Marks: {marks}\")"
      ],
      "metadata": {
        "colab": {
          "base_uri": "https://localhost:8080/"
        },
        "id": "qqq9upRIfQdw",
        "outputId": "81cf187d-373c-4609-be85-d2a9fa06c246"
      },
      "execution_count": 19,
      "outputs": [
        {
          "output_type": "stream",
          "name": "stdout",
          "text": [
            "Enter the number of students: 5\n",
            "Enter name and marks of student 1: Munna 83\n",
            "Enter name and marks of student 2: Sola 87\n",
            "Enter name and marks of student 3: Leda 98\n",
            "Enter name and marks of student 4: Ovi 87\n",
            "Enter name and marks of student 5: Rafin 92\n",
            "Name: Leda Marks: 98\n",
            "Name: Rafin Marks: 92\n",
            "Name: Sola Marks: 87\n"
          ]
        }
      ]
    },
    {
      "cell_type": "markdown",
      "source": [
        "# Problem 3: Word Length Filter (Lambda + Filter)\n"
      ],
      "metadata": {
        "id": "WgmnH_hNjRg7"
      }
    },
    {
      "cell_type": "code",
      "source": [
        "words = [\"sun\", \"planet\", \"moon\", \"star\", \"universe\"]\n",
        "\n",
        "filtered = list(filter(lambda x : len(x) > 4, words))\n",
        "\n",
        "print(filtered)"
      ],
      "metadata": {
        "colab": {
          "base_uri": "https://localhost:8080/"
        },
        "id": "owHrlfqOjR1i",
        "outputId": "cca5714a-c1b5-4b4f-eece-ff5440f91aee"
      },
      "execution_count": 20,
      "outputs": [
        {
          "output_type": "stream",
          "name": "stdout",
          "text": [
            "['planet', 'universe']\n"
          ]
        }
      ]
    },
    {
      "cell_type": "markdown",
      "source": [
        "# Problem 4: Square of Even Numbers (Map + Filter + Lambda)"
      ],
      "metadata": {
        "id": "-I95F0izlU4w"
      }
    },
    {
      "cell_type": "code",
      "source": [
        "nums = [1, 2, 3, 4, 5, 6]\n",
        "\n",
        "even_number = list(map(lambda x : x**2, filter(lambda x : x % 2 == 0, nums)))\n",
        "\n",
        "print(even_number)"
      ],
      "metadata": {
        "colab": {
          "base_uri": "https://localhost:8080/"
        },
        "id": "-db5kX2vkGfq",
        "outputId": "7219247a-92eb-4d73-d7eb-83b273536f36"
      },
      "execution_count": 22,
      "outputs": [
        {
          "output_type": "stream",
          "name": "stdout",
          "text": [
            "[4, 16, 36]\n"
          ]
        }
      ]
    },
    {
      "cell_type": "markdown",
      "source": [
        "# Problem 5: Write and Read a File\n"
      ],
      "metadata": {
        "id": "_wOckf-fmI3u"
      }
    },
    {
      "cell_type": "code",
      "source": [
        "with open(\"./sample_data/data.txt\", \"w+\") as file:\n",
        "  file.write(\"Learning Python is fun!\")\n",
        "  file.seek(0)\n",
        "  print(file.read())"
      ],
      "metadata": {
        "colab": {
          "base_uri": "https://localhost:8080/"
        },
        "id": "XLG7ZVaPliZ7",
        "outputId": "a8513320-6f52-49ab-fea2-cd0a1fbdbeec"
      },
      "execution_count": 25,
      "outputs": [
        {
          "output_type": "stream",
          "name": "stdout",
          "text": [
            "Learning Python is fun!\n"
          ]
        }
      ]
    },
    {
      "cell_type": "markdown",
      "source": [
        "# Problem 6: Count Lines in a File\n"
      ],
      "metadata": {
        "id": "6Y1CREiYmhUH"
      }
    },
    {
      "cell_type": "code",
      "source": [
        "try:\n",
        "  file = open(\"./sample_data/data1.txt\", \"r\")\n",
        "except Exception as e:\n",
        "  print(e)\n",
        "else:\n",
        "  print(file.read())\n",
        "finally:\n",
        "  print(\"File Operation Successful!\")"
      ],
      "metadata": {
        "colab": {
          "base_uri": "https://localhost:8080/"
        },
        "id": "cil0ympjmi3w",
        "outputId": "05eabd57-3fe2-4e8f-ed67-7b74d8736d0f"
      },
      "execution_count": 28,
      "outputs": [
        {
          "output_type": "stream",
          "name": "stdout",
          "text": [
            "[Errno 2] No such file or directory: './sample_data/data1.txt'\n",
            "File Operation Successful!\n"
          ]
        }
      ]
    }
  ]
}
